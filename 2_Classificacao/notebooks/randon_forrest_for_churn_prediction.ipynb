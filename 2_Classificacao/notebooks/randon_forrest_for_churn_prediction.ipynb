{
 "cells": [
  {
   "cell_type": "markdown",
   "id": "a2aaf51a-215a-473e-886d-0bbce54a0367",
   "metadata": {},
   "source": [
    "### Importações"
   ]
  },
  {
   "cell_type": "code",
   "execution_count": 1,
   "id": "d3829698-3181-4a82-9f50-89a11ae116ce",
   "metadata": {},
   "outputs": [],
   "source": [
    "import pandas as pd\n",
    "import numpy as np\n",
    "import matplotlib.pyplot as plt\n",
    "import seaborn as sns\n",
    "\n",
    "import pathlib as pl"
   ]
  },
  {
   "cell_type": "code",
   "execution_count": 2,
   "id": "951c6e21-7ad9-443f-abfb-366bb1f6865c",
   "metadata": {},
   "outputs": [],
   "source": [
    "pd.set_option(\"display.max_columns\", None)"
   ]
  },
  {
   "cell_type": "markdown",
   "id": "be19c7ff-f81d-4c25-93d1-634e95e62a6e",
   "metadata": {},
   "source": [
    "#### Leitura dos dados"
   ]
  },
  {
   "cell_type": "code",
   "execution_count": 3,
   "id": "07731abe-828c-4228-b9e8-373b46aadef4",
   "metadata": {},
   "outputs": [],
   "source": [
    "dataset_path = pl.Path(\"../dataset\")"
   ]
  },
  {
   "cell_type": "code",
   "execution_count": 4,
   "id": "3ec2f4d8-4ef8-4981-9a53-cbd165f15877",
   "metadata": {},
   "outputs": [],
   "source": [
    "df_train = pd.read_csv(\"../dataset/df_train.csv\")\n",
    "df_test = pd.read_csv(\"../dataset/df_test.csv\")"
   ]
  },
  {
   "cell_type": "code",
   "execution_count": 5,
   "id": "35e599f8-8805-4109-888d-d3fdd8278aec",
   "metadata": {},
   "outputs": [
    {
     "data": {
      "text/plain": [
       "Index(['CustomerID', 'Count', 'Country', 'State', 'City', 'Zip Code',\n",
       "       'Lat Long', 'Latitude', 'Longitude', 'Gender', 'Senior Citizen',\n",
       "       'Partner', 'Dependents', 'Tenure Months', 'Phone Service',\n",
       "       'Multiple Lines', 'Internet Service', 'Online Security',\n",
       "       'Online Backup', 'Device Protection', 'Tech Support', 'Streaming TV',\n",
       "       'Streaming Movies', 'Contract', 'Paperless Billing', 'Payment Method',\n",
       "       'Monthly Charges', 'Total Charges', 'Churn Label', 'CLTV'],\n",
       "      dtype='object')"
      ]
     },
     "execution_count": 5,
     "metadata": {},
     "output_type": "execute_result"
    }
   ],
   "source": [
    "df_train.columns"
   ]
  },
  {
   "cell_type": "markdown",
   "id": "a012fc30-b4ac-4ee3-ac76-8d58337116c1",
   "metadata": {},
   "source": [
    "##### Para a realização de uma análise exploratória inicial, utilizarei apenas o DataFrame com a amostra de treinamento, dado que é o único que contém a coluna \"Churn Label\" preenchida"
   ]
  },
  {
   "cell_type": "code",
   "execution_count": 6,
   "id": "281ee130-0cce-4548-b7af-4a0d0128f6f5",
   "metadata": {},
   "outputs": [],
   "source": [
    "#Concatedando DataFrames de treino e de teste\n",
    "df_analise = df_train.copy()"
   ]
  },
  {
   "cell_type": "markdown",
   "id": "2feafc95-2cb2-49a1-b31a-48ae55d26661",
   "metadata": {},
   "source": [
    "Algumas colunas podem ser removidas por não possuírem valor analítico nesse caso, como as colunas \"Country\" e \"State\" que são as mesmas para todos os registros. Também removerei a coluna \"Lat Long\" já haver duas colunas com a informação contida nela de forma separada. Por fim, a coluna \"Total Charges\" que é aparentemente é uma combinação linear das colunas \"Tenure Months\" e \"Monthly Charges\"."
   ]
  },
  {
   "cell_type": "code",
   "execution_count": 7,
   "id": "fb825e4e-fa4a-4b23-8007-d5aa8af14d59",
   "metadata": {},
   "outputs": [],
   "source": [
    "columns_to_drop = [\"Count\", \"Country\", \"State\", \"Lat Long\", \"Total Charges\"]\n",
    "\n",
    "# Removendo colunas \"Country\", \"State\" e \"Lat Long\"\n",
    "df_analise = df_analise.drop(columns=columns_to_drop)"
   ]
  },
  {
   "cell_type": "markdown",
   "id": "4615fcd9-fe10-4c61-a701-97087b3cc2af",
   "metadata": {},
   "source": [
    "### Analisando a taxa de churn por cidade"
   ]
  },
  {
   "cell_type": "code",
   "execution_count": 8,
   "id": "11ee6d12-e257-49c2-bef7-91ffd95cde4d",
   "metadata": {},
   "outputs": [
    {
     "data": {
      "text/plain": [
       "City\n",
       "Los Angeles        270\n",
       "San Diego          130\n",
       "San Jose            94\n",
       "San Francisco       91\n",
       "Sacramento          90\n",
       "Fresno              58\n",
       "Long Beach          52\n",
       "Oakland             39\n",
       "Stockton            36\n",
       "Glendale            34\n",
       "Bakersfield         31\n",
       "Riverside           30\n",
       "Whittier            28\n",
       "Modesto             25\n",
       "Santa Barbara       24\n",
       "Berkeley            24\n",
       "Irvine              24\n",
       "Anaheim             24\n",
       "Pasadena            23\n",
       "Burbank             23\n",
       "San Bernardino      22\n",
       "Santa Monica        22\n",
       "Santa Rosa          22\n",
       "Inglewood           22\n",
       "Chula Vista         20\n",
       "Corona              19\n",
       "Salinas             18\n",
       "North Hollywood     18\n",
       "Garden Grove        18\n",
       "Orange              17\n",
       "Name: City, dtype: int64"
      ]
     },
     "execution_count": 8,
     "metadata": {},
     "output_type": "execute_result"
    }
   ],
   "source": [
    "df_analise.groupby(\"City\")[\"City\"].count().sort_values(ascending=False).head(30)"
   ]
  },
  {
   "cell_type": "markdown",
   "id": "98aa9a0d-07ad-4836-9d28-7150441edeff",
   "metadata": {},
   "source": [
    "Como existe um número muito grande de cidades (1129) e muitas delas possuem poucos registros. Agruparei as cidades com menos de 20 registros em uma categoria \"Others\"."
   ]
  },
  {
   "cell_type": "code",
   "execution_count": 9,
   "id": "ac042db6-f82b-46eb-86ab-cc867e87e999",
   "metadata": {},
   "outputs": [],
   "source": [
    "df_churn_by_city = df_analise[[\"City\",\"Churn Label\"]].copy()\n",
    "\n",
    "#Realizando a contagem de registros por cidade\n",
    "count_by_city = df_analise.groupby(\"City\")[\"City\"].count()\n",
    "\n",
    "#Separando cidades que possuem pelo menos 30 registros\n",
    "cities_to_keep = list(count_by_city[count_by_city>=20].index)\n",
    "\n",
    "#Agrupando todas as cidades com menos de 30 registros na categoria \"Others\"\n",
    "df_churn_by_city[\"City\"] = df_churn_by_city[\"City\"].replace({city: \"Others\" for city in df_churn_by_city['City'].unique() if city not in cities_to_keep})\n",
    "\n",
    "#Mapeando valores 0 e 1 para os valores No e Yes, respectivamente\n",
    "df_churn_by_city[\"Churn Label\"] = df_churn_by_city[\"Churn Label\"].map({\"Yes\":1, \"No\":0})"
   ]
  },
  {
   "cell_type": "code",
   "execution_count": 10,
   "id": "1ccca79e-a58b-45af-a192-459d869913f6",
   "metadata": {},
   "outputs": [],
   "source": [
    "#Calculando a taxa de churn por cidade \n",
    "df_churn_rate_by_city = (df_churn_by_city.groupby(\"City\").mean()*100)\n",
    "df_churn_rate_by_city = df_churn_rate_by_city.rename(columns={\"Churn Label\": \"Churn Rate\"}).reset_index(drop=False)"
   ]
  },
  {
   "cell_type": "code",
   "execution_count": 11,
   "id": "867dfa36-8b83-4a3e-8696-31b56d590960",
   "metadata": {},
   "outputs": [
    {
     "data": {
      "text/html": [
       "<div>\n",
       "<style scoped>\n",
       "    .dataframe tbody tr th:only-of-type {\n",
       "        vertical-align: middle;\n",
       "    }\n",
       "\n",
       "    .dataframe tbody tr th {\n",
       "        vertical-align: top;\n",
       "    }\n",
       "\n",
       "    .dataframe thead th {\n",
       "        text-align: right;\n",
       "    }\n",
       "</style>\n",
       "<table border=\"1\" class=\"dataframe\">\n",
       "  <thead>\n",
       "    <tr style=\"text-align: right;\">\n",
       "      <th></th>\n",
       "      <th>City</th>\n",
       "      <th>Churn Rate</th>\n",
       "    </tr>\n",
       "  </thead>\n",
       "  <tbody>\n",
       "    <tr>\n",
       "      <th>0</th>\n",
       "      <td>Anaheim</td>\n",
       "      <td>29.166667</td>\n",
       "    </tr>\n",
       "    <tr>\n",
       "      <th>1</th>\n",
       "      <td>Bakersfield</td>\n",
       "      <td>6.451613</td>\n",
       "    </tr>\n",
       "    <tr>\n",
       "      <th>2</th>\n",
       "      <td>Berkeley</td>\n",
       "      <td>29.166667</td>\n",
       "    </tr>\n",
       "    <tr>\n",
       "      <th>3</th>\n",
       "      <td>Burbank</td>\n",
       "      <td>26.086957</td>\n",
       "    </tr>\n",
       "    <tr>\n",
       "      <th>4</th>\n",
       "      <td>Chula Vista</td>\n",
       "      <td>25.000000</td>\n",
       "    </tr>\n",
       "    <tr>\n",
       "      <th>5</th>\n",
       "      <td>Fresno</td>\n",
       "      <td>25.862069</td>\n",
       "    </tr>\n",
       "    <tr>\n",
       "      <th>6</th>\n",
       "      <td>Glendale</td>\n",
       "      <td>32.352941</td>\n",
       "    </tr>\n",
       "    <tr>\n",
       "      <th>7</th>\n",
       "      <td>Inglewood</td>\n",
       "      <td>18.181818</td>\n",
       "    </tr>\n",
       "    <tr>\n",
       "      <th>8</th>\n",
       "      <td>Irvine</td>\n",
       "      <td>16.666667</td>\n",
       "    </tr>\n",
       "    <tr>\n",
       "      <th>9</th>\n",
       "      <td>Long Beach</td>\n",
       "      <td>25.000000</td>\n",
       "    </tr>\n",
       "    <tr>\n",
       "      <th>10</th>\n",
       "      <td>Los Angeles</td>\n",
       "      <td>30.000000</td>\n",
       "    </tr>\n",
       "    <tr>\n",
       "      <th>11</th>\n",
       "      <td>Modesto</td>\n",
       "      <td>48.000000</td>\n",
       "    </tr>\n",
       "    <tr>\n",
       "      <th>12</th>\n",
       "      <td>Oakland</td>\n",
       "      <td>30.769231</td>\n",
       "    </tr>\n",
       "    <tr>\n",
       "      <th>13</th>\n",
       "      <td>Others</td>\n",
       "      <td>25.930626</td>\n",
       "    </tr>\n",
       "    <tr>\n",
       "      <th>14</th>\n",
       "      <td>Pasadena</td>\n",
       "      <td>34.782609</td>\n",
       "    </tr>\n",
       "    <tr>\n",
       "      <th>15</th>\n",
       "      <td>Riverside</td>\n",
       "      <td>23.333333</td>\n",
       "    </tr>\n",
       "    <tr>\n",
       "      <th>16</th>\n",
       "      <td>Sacramento</td>\n",
       "      <td>24.444444</td>\n",
       "    </tr>\n",
       "    <tr>\n",
       "      <th>17</th>\n",
       "      <td>San Bernardino</td>\n",
       "      <td>36.363636</td>\n",
       "    </tr>\n",
       "    <tr>\n",
       "      <th>18</th>\n",
       "      <td>San Diego</td>\n",
       "      <td>30.000000</td>\n",
       "    </tr>\n",
       "    <tr>\n",
       "      <th>19</th>\n",
       "      <td>San Francisco</td>\n",
       "      <td>27.472527</td>\n",
       "    </tr>\n",
       "    <tr>\n",
       "      <th>20</th>\n",
       "      <td>San Jose</td>\n",
       "      <td>27.659574</td>\n",
       "    </tr>\n",
       "    <tr>\n",
       "      <th>21</th>\n",
       "      <td>Santa Barbara</td>\n",
       "      <td>37.500000</td>\n",
       "    </tr>\n",
       "    <tr>\n",
       "      <th>22</th>\n",
       "      <td>Santa Monica</td>\n",
       "      <td>18.181818</td>\n",
       "    </tr>\n",
       "    <tr>\n",
       "      <th>23</th>\n",
       "      <td>Santa Rosa</td>\n",
       "      <td>40.909091</td>\n",
       "    </tr>\n",
       "    <tr>\n",
       "      <th>24</th>\n",
       "      <td>Stockton</td>\n",
       "      <td>30.555556</td>\n",
       "    </tr>\n",
       "    <tr>\n",
       "      <th>25</th>\n",
       "      <td>Whittier</td>\n",
       "      <td>14.285714</td>\n",
       "    </tr>\n",
       "  </tbody>\n",
       "</table>\n",
       "</div>"
      ],
      "text/plain": [
       "              City  Churn Rate\n",
       "0          Anaheim   29.166667\n",
       "1      Bakersfield    6.451613\n",
       "2         Berkeley   29.166667\n",
       "3          Burbank   26.086957\n",
       "4      Chula Vista   25.000000\n",
       "5           Fresno   25.862069\n",
       "6         Glendale   32.352941\n",
       "7        Inglewood   18.181818\n",
       "8           Irvine   16.666667\n",
       "9       Long Beach   25.000000\n",
       "10     Los Angeles   30.000000\n",
       "11         Modesto   48.000000\n",
       "12         Oakland   30.769231\n",
       "13          Others   25.930626\n",
       "14        Pasadena   34.782609\n",
       "15       Riverside   23.333333\n",
       "16      Sacramento   24.444444\n",
       "17  San Bernardino   36.363636\n",
       "18       San Diego   30.000000\n",
       "19   San Francisco   27.472527\n",
       "20        San Jose   27.659574\n",
       "21   Santa Barbara   37.500000\n",
       "22    Santa Monica   18.181818\n",
       "23      Santa Rosa   40.909091\n",
       "24        Stockton   30.555556\n",
       "25        Whittier   14.285714"
      ]
     },
     "execution_count": 11,
     "metadata": {},
     "output_type": "execute_result"
    }
   ],
   "source": [
    "df_churn_rate_by_city"
   ]
  },
  {
   "cell_type": "code",
   "execution_count": 12,
   "id": "a27d0755-d128-4ce3-846c-4f213e634963",
   "metadata": {},
   "outputs": [
    {
     "data": {
      "text/plain": [
       "<function matplotlib.pyplot.tight_layout(*, pad: 'float' = 1.08, h_pad: 'float | None' = None, w_pad: 'float | None' = None, rect: 'tuple[float, float, float, float] | None' = None) -> 'None'>"
      ]
     },
     "execution_count": 12,
     "metadata": {},
     "output_type": "execute_result"
    },
    {
     "data": {
      "image/png": "[encoded data removed]",
      "text/plain": [
       "<Figure size 1000x600 with 1 Axes>"
      ]
     },
     "metadata": {},
     "output_type": "display_data"
    }
   ],
   "source": [
    "plt.figure(figsize=(10,6))\n",
    "\n",
    "#Gerando barplot\n",
    "sns.barplot(data=df_churn_rate_by_city.sort_values(\"Churn Rate\"), y=\"City\", x=\"Churn Rate\")\n",
    "\n",
    "#Definindo titulo e rótulos dos eixos\n",
    "plt.title(\"Taxa de Churn's por Cidade\")\n",
    "plt.xlabel(\"Taxa de Churn\")\n",
    "plt.ylabel(\"Cidade\")\n",
    "\n",
    "plt.tight_layout"
   ]
  },
  {
   "cell_type": "markdown",
   "id": "9f44af8b-9e80-4435-b1fa-a55439cc2145",
   "metadata": {},
   "source": [
    "Analisando apenas as cidades que possuem pelo menos 20 registros nos dados, duas cidades se destacam com taxa de churn de mais de 40%, sendo elas Santa Rosa e Modesto. Há também que se destacar a cidade Bakerslfield, que possui uma taxa bastante inferior comparada com as demais, com menos de 10% de taxa de churn. "
   ]
  },
  {
   "cell_type": "markdown",
   "id": "40224698-3bb3-4958-8f1a-d5c1d8f3741f",
   "metadata": {},
   "source": [
    "#### Analisando Churn pelo tempo"
   ]
  },
  {
   "cell_type": "code",
   "execution_count": 13,
   "id": "0e82c885-e2f2-4914-829b-12241b51c36f",
   "metadata": {},
   "outputs": [],
   "source": [
    "df_churn_by_time = df_analise[[\"Tenure Months\",\"Churn Label\"]].copy()\n",
    "\n",
    "#Mapeando valores 0 e 1 para os valores No e Yes, respectivamente\n",
    "df_churn_by_time[\"Churn Label\"] = df_churn_by_time[\"Churn Label\"].map({\"Yes\":1, \"No\":0})\n",
    "\n",
    "#Criando coluna com intervalos de meses\n",
    "df_churn_by_time[\"Binned Tenure Months\"] = pd.cut(df_churn_by_time[\"Tenure Months\"], bins=25, precision=0, right=False)\n",
    "\n",
    "#Agrupando quantidade de Churn por quantidade de meses de serviço\n",
    "df_churn_by_time1 = df_churn_by_time.groupby(\"Binned Tenure Months\", observed=True)[\"Churn Label\"].sum()"
   ]
  },
  {
   "cell_type": "code",
   "execution_count": 14,
   "id": "19639ba7-5f74-474d-99e7-99fb0649e1df",
   "metadata": {},
   "outputs": [
    {
     "data": {
      "text/plain": [
       "<function matplotlib.pyplot.tight_layout(*, pad: 'float' = 1.08, h_pad: 'float | None' = None, w_pad: 'float | None' = None, rect: 'tuple[float, float, float, float] | None' = None) -> 'None'>"
      ]
     },
     "execution_count": 14,
     "metadata": {},
     "output_type": "execute_result"
    },
    {
     "data": {
      "image/png": "[encoded data removed]",
      "text/plain": [
       "<Figure size 1000x600 with 1 Axes>"
      ]
     },
     "metadata": {},
     "output_type": "display_data"
    }
   ],
   "source": [
    "plt.figure(figsize=(10,6))\n",
    "\n",
    "#Gerando barplot\n",
    "sns.barplot(df_churn_by_time1, orient=\"h\")\n",
    "\n",
    "#Definindo titulo e rótulos dos eixos\n",
    "plt.title(\"Contagem de Churn's por meses de serviço\")\n",
    "plt.xlabel(\"Contagem de Churn\")\n",
    "plt.ylabel(\"Meses de Serviço\")\n",
    "\n",
    "plt.tight_layout"
   ]
  },
  {
   "cell_type": "markdown",
   "id": "7ff066ab-c119-4ddd-9939-dfed1ddfa0c3",
   "metadata": {},
   "source": [
    "Como pode ser analisado, a quantidade de Churn decai conforme o número de meses que o cliente permanece com a empresa aumenta. O que indica que clientes mais duradouros tem uma tendência maior a pernamencer na empresa por mais tempo ainda."
   ]
  },
  {
   "cell_type": "markdown",
   "id": "a2f79622-4699-40cf-b2d7-a69b3b79fa2a",
   "metadata": {},
   "source": [
    "#### Analise quantitativa do uso dos serviços prestados"
   ]
  },
  {
   "cell_type": "code",
   "execution_count": 15,
   "id": "faf597f8-b24a-4a35-9aa2-46719f5d58fe",
   "metadata": {},
   "outputs": [],
   "source": [
    "#Separando colunas que contem informações sobre os serviços oferecidos pelas empresas de telecomunicações\n",
    "service_columns = ['Phone Service', 'Multiple Lines', 'Internet Service',\n",
    "                   'Online Security', 'Online Backup', 'Device Protection',\n",
    "                   'Tech Support', 'Streaming TV', 'Streaming Movies']\n",
    "\n",
    "df_services = df_analise[service_columns].copy()\n",
    "\n",
    "#Mapeando valores 1 e 0 indicando o uso ou não do serviço\n",
    "df_services = df_services.map(lambda x: {'Yes':1, 'DSL':1, 'Fiber optic':1}.get(x)).astype(float).fillna(0)\n",
    "\n",
    "#Calculando o percentual de uso para cada serviço\n",
    "service_usage_percentages = df_services.mean()*100\n",
    "\n",
    "#Ordenando valores pela porcentagem\n",
    "service_usage_percentages = service_usage_percentages.sort_values()"
   ]
  },
  {
   "cell_type": "code",
   "execution_count": 16,
   "id": "35315a9c-8128-4d9f-a7f4-8c83fa5da336",
   "metadata": {},
   "outputs": [
    {
     "data": {
      "text/plain": [
       "<function matplotlib.pyplot.tight_layout(*, pad: 'float' = 1.08, h_pad: 'float | None' = None, w_pad: 'float | None' = None, rect: 'tuple[float, float, float, float] | None' = None) -> 'None'>"
      ]
     },
     "execution_count": 16,
     "metadata": {},
     "output_type": "execute_result"
    },
    {
     "data": {
      "image/png": "[encoded data removed]",
      "text/plain": [
       "<Figure size 1000x600 with 1 Axes>"
      ]
     },
     "metadata": {},
     "output_type": "display_data"
    }
   ],
   "source": [
    "plt.figure(figsize=(10,6))\n",
    "\n",
    "#Gerando barplot\n",
    "sns.barplot(service_usage_percentages, orient=\"h\")\n",
    "\n",
    "#Definindo titulo e rótulos dos eixos\n",
    "plt.title(\"Porcentagem de uso de cada serviço\")\n",
    "plt.xlabel(\"Porcentagem de uso\")\n",
    "plt.ylabel(\"\")\n",
    "\n",
    "plt.tight_layout"
   ]
  },
  {
   "cell_type": "markdown",
   "id": "f9fa05a2-249b-41b1-b945-8f4d57e7dee1",
   "metadata": {},
   "source": [
    "De modo geral, dentre os serviços menos utilizados estão: serviço adicional de segurança online(\"Online Security\") e o plano adicional de suporte técnico(\"Tech Support\")"
   ]
  },
  {
   "cell_type": "markdown",
   "id": "9d73d866-3a44-4b47-99dc-d5f009113e89",
   "metadata": {},
   "source": [
    "### Pré-processamento para treinamento de modelo de classifição."
   ]
  },
  {
   "cell_type": "markdown",
   "id": "b24caefb-591e-4f15-9bde-acbabdf93090",
   "metadata": {},
   "source": [
    "Inicialmente, removerei as colunas previamente retiradas para análise pelos mesmos motivos citados. Além delas, removerei a coluna Zip Code para facilitar o treinamento do modelo visto que as informações atreladas a localidade já podem ser traduzidas das colunas \"Latitude\", \"Longitude\" e \"City\"."
   ]
  },
  {
   "cell_type": "code",
   "execution_count": 17,
   "id": "1e56efad-a712-4786-a7f9-8df99da8c5df",
   "metadata": {},
   "outputs": [],
   "source": [
    "columns_to_drop = columns_to_drop+[\"Zip Code\"]\n",
    "\n",
    "#Removendo colunas mencionadas\n",
    "df_train1 = df_train.drop(columns=columns_to_drop)\n",
    "df_test1 = df_test.drop(columns=columns_to_drop)"
   ]
  },
  {
   "cell_type": "markdown",
   "id": "b267dfbc-6fc0-4295-ac2c-1483888d9e8e",
   "metadata": {},
   "source": [
    "Das colunas restantes, podemos separar as colunas nos tipos categóricas e numéricas."
   ]
  },
  {
   "cell_type": "markdown",
   "id": "e64d2048-5419-4e11-81f8-7caea71f5dda",
   "metadata": {},
   "source": [
    "#### Variável numérica"
   ]
  },
  {
   "cell_type": "code",
   "execution_count": 18,
   "id": "db7fe500-b579-413b-84a8-ab318305e9e6",
   "metadata": {},
   "outputs": [],
   "source": [
    "numerical_variables = ['Latitude', 'Longitude','Monthly Charges','CLTV']"
   ]
  },
  {
   "cell_type": "code",
   "execution_count": 19,
   "id": "2145ebdb-86d5-48cd-8c0c-85fad0c8a915",
   "metadata": {},
   "outputs": [],
   "source": [
    "from sklearn.preprocessing import StandardScaler\n",
    "\n",
    "standard_scaler = StandardScaler()\n",
    "\n",
    "# Aplicando a normalização\n",
    "df_train1[numerical_variables] = standard_scaler.fit_transform(df_train1[numerical_variables])\n",
    "df_test1[numerical_variables] = standard_scaler.fit_transform(df_test1[numerical_variables])"
   ]
  },
  {
   "cell_type": "markdown",
   "id": "109fee66-6a65-4503-b057-6fba2f085399",
   "metadata": {},
   "source": [
    "#### Variáveis categóricas"
   ]
  },
  {
   "cell_type": "markdown",
   "id": "14b6ac00-65f4-4489-bb03-f5fd9a4f512d",
   "metadata": {},
   "source": [
    "Para pré-processar as colunas com valores categóricos, utilizarei o LabelEncoding. Esse tipo de encoding deve ser utilizado com cautela pois ele pode introduziar alguma relação ordinal indesejada em variáveis categóricas nominais. No entanto, como treinaremos modelos tipo árvore, que não são sensíveis à esse tipo de relação ordinal, não haverá problemas."
   ]
  },
  {
   "cell_type": "code",
   "execution_count": 20,
   "id": "43ff0912-9aef-4d84-9407-32ae48fdff61",
   "metadata": {},
   "outputs": [],
   "source": [
    "from sklearn.preprocessing import LabelEncoder\n",
    "\n",
    "#Instanciando label encoder\n",
    "label_encoder = LabelEncoder()"
   ]
  },
  {
   "cell_type": "code",
   "execution_count": 21,
   "id": "bd008b37-691f-4310-9725-55e8f23cc5aa",
   "metadata": {},
   "outputs": [],
   "source": [
    "categorical_variables = [\"City\", \"Gender\", \"Senior Citizen\", \"Partner\", \"Dependents\", 'Phone Service', 'Multiple Lines',\n",
    "                       'Internet Service','Online Security', 'Online Backup', 'Device Protection', 'Tech Support',\n",
    "                       'Streaming TV', 'Streaming Movies', 'Contract', 'Paperless Billing', 'Payment Method', \"Churn Label\"]\n",
    "\n",
    "\n",
    "#Concatenando Dataframes para a realização do encoding de modo uniforme entre os dois dados:\n",
    "unified_df = pd.concat([df_train1, df_test1])\n",
    "\n",
    "#Agrupando todas as cidades com menos de 20 registros na categoria \"Others\"\n",
    "unified_df_encoded = unified_df[\"City\"].replace({city: \"Others\" for city in unified_df['City'].unique() if city not in cities_to_keep})\n",
    "\n",
    "#Aplicando label encoding para cada uma das colunas com variáveis categóricas\n",
    "for column in categorical_variables:\n",
    "    unified_df[column] = label_encoder.fit_transform(unified_df[column])\n",
    "\n",
    "# Separando amostras de treino e de teste novamente\n",
    "df_train_encoded = unified_df[unified_df[\"CustomerID\"].isin(df_train1[\"CustomerID\"])].reset_index(drop=True).drop(columns=[\"CustomerID\"])\n",
    "df_test_encoded = unified_df[unified_df[\"CustomerID\"].isin(df_test1[\"CustomerID\"])].reset_index(drop=True).drop(columns=[\"CustomerID\"])"
   ]
  },
  {
   "cell_type": "code",
   "execution_count": 22,
   "id": "8a021b54-45d4-4664-a01d-2ac280999ac1",
   "metadata": {},
   "outputs": [
    {
     "data": {
      "text/html": [
       "<div>\n",
       "<style scoped>\n",
       "    .dataframe tbody tr th:only-of-type {\n",
       "        vertical-align: middle;\n",
       "    }\n",
       "\n",
       "    .dataframe tbody tr th {\n",
       "        vertical-align: top;\n",
       "    }\n",
       "\n",
       "    .dataframe thead th {\n",
       "        text-align: right;\n",
       "    }\n",
       "</style>\n",
       "<table border=\"1\" class=\"dataframe\">\n",
       "  <thead>\n",
       "    <tr style=\"text-align: right;\">\n",
       "      <th></th>\n",
       "      <th>City</th>\n",
       "      <th>Latitude</th>\n",
       "      <th>Longitude</th>\n",
       "      <th>Gender</th>\n",
       "      <th>Senior Citizen</th>\n",
       "      <th>Partner</th>\n",
       "      <th>Dependents</th>\n",
       "      <th>Tenure Months</th>\n",
       "      <th>Phone Service</th>\n",
       "      <th>Multiple Lines</th>\n",
       "      <th>Internet Service</th>\n",
       "      <th>Online Security</th>\n",
       "      <th>Online Backup</th>\n",
       "      <th>Device Protection</th>\n",
       "      <th>Tech Support</th>\n",
       "      <th>Streaming TV</th>\n",
       "      <th>Streaming Movies</th>\n",
       "      <th>Contract</th>\n",
       "      <th>Paperless Billing</th>\n",
       "      <th>Payment Method</th>\n",
       "      <th>Monthly Charges</th>\n",
       "      <th>Churn Label</th>\n",
       "      <th>CLTV</th>\n",
       "    </tr>\n",
       "  </thead>\n",
       "  <tbody>\n",
       "    <tr>\n",
       "      <th>0</th>\n",
       "      <td>562</td>\n",
       "      <td>-0.941985</td>\n",
       "      <td>0.722603</td>\n",
       "      <td>0</td>\n",
       "      <td>0</td>\n",
       "      <td>1</td>\n",
       "      <td>0</td>\n",
       "      <td>1</td>\n",
       "      <td>0</td>\n",
       "      <td>1</td>\n",
       "      <td>0</td>\n",
       "      <td>0</td>\n",
       "      <td>2</td>\n",
       "      <td>0</td>\n",
       "      <td>0</td>\n",
       "      <td>0</td>\n",
       "      <td>0</td>\n",
       "      <td>0</td>\n",
       "      <td>1</td>\n",
       "      <td>2</td>\n",
       "      <td>-1.148641</td>\n",
       "      <td>0</td>\n",
       "      <td>-0.365744</td>\n",
       "    </tr>\n",
       "    <tr>\n",
       "      <th>1</th>\n",
       "      <td>275</td>\n",
       "      <td>-1.490950</td>\n",
       "      <td>1.446684</td>\n",
       "      <td>0</td>\n",
       "      <td>0</td>\n",
       "      <td>0</td>\n",
       "      <td>0</td>\n",
       "      <td>38</td>\n",
       "      <td>1</td>\n",
       "      <td>2</td>\n",
       "      <td>0</td>\n",
       "      <td>2</td>\n",
       "      <td>2</td>\n",
       "      <td>2</td>\n",
       "      <td>0</td>\n",
       "      <td>0</td>\n",
       "      <td>0</td>\n",
       "      <td>0</td>\n",
       "      <td>1</td>\n",
       "      <td>0</td>\n",
       "      <td>0.056369</td>\n",
       "      <td>0</td>\n",
       "      <td>0.450732</td>\n",
       "    </tr>\n",
       "    <tr>\n",
       "      <th>2</th>\n",
       "      <td>878</td>\n",
       "      <td>0.400931</td>\n",
       "      <td>-1.010860</td>\n",
       "      <td>1</td>\n",
       "      <td>1</td>\n",
       "      <td>1</td>\n",
       "      <td>1</td>\n",
       "      <td>64</td>\n",
       "      <td>1</td>\n",
       "      <td>2</td>\n",
       "      <td>2</td>\n",
       "      <td>1</td>\n",
       "      <td>1</td>\n",
       "      <td>1</td>\n",
       "      <td>1</td>\n",
       "      <td>1</td>\n",
       "      <td>1</td>\n",
       "      <td>2</td>\n",
       "      <td>1</td>\n",
       "      <td>0</td>\n",
       "      <td>-1.329559</td>\n",
       "      <td>0</td>\n",
       "      <td>0.315074</td>\n",
       "    </tr>\n",
       "    <tr>\n",
       "      <th>3</th>\n",
       "      <td>562</td>\n",
       "      <td>-0.924069</td>\n",
       "      <td>0.745072</td>\n",
       "      <td>0</td>\n",
       "      <td>1</td>\n",
       "      <td>1</td>\n",
       "      <td>0</td>\n",
       "      <td>72</td>\n",
       "      <td>1</td>\n",
       "      <td>2</td>\n",
       "      <td>0</td>\n",
       "      <td>2</td>\n",
       "      <td>2</td>\n",
       "      <td>2</td>\n",
       "      <td>0</td>\n",
       "      <td>2</td>\n",
       "      <td>2</td>\n",
       "      <td>2</td>\n",
       "      <td>1</td>\n",
       "      <td>1</td>\n",
       "      <td>0.652234</td>\n",
       "      <td>0</td>\n",
       "      <td>0.506343</td>\n",
       "    </tr>\n",
       "    <tr>\n",
       "      <th>4</th>\n",
       "      <td>996</td>\n",
       "      <td>1.125898</td>\n",
       "      <td>-0.172791</td>\n",
       "      <td>0</td>\n",
       "      <td>1</td>\n",
       "      <td>0</td>\n",
       "      <td>0</td>\n",
       "      <td>42</td>\n",
       "      <td>1</td>\n",
       "      <td>2</td>\n",
       "      <td>1</td>\n",
       "      <td>0</td>\n",
       "      <td>0</td>\n",
       "      <td>0</td>\n",
       "      <td>0</td>\n",
       "      <td>2</td>\n",
       "      <td>0</td>\n",
       "      <td>0</td>\n",
       "      <td>1</td>\n",
       "      <td>2</td>\n",
       "      <td>0.670492</td>\n",
       "      <td>1</td>\n",
       "      <td>0.398491</td>\n",
       "    </tr>\n",
       "    <tr>\n",
       "      <th>...</th>\n",
       "      <td>...</td>\n",
       "      <td>...</td>\n",
       "      <td>...</td>\n",
       "      <td>...</td>\n",
       "      <td>...</td>\n",
       "      <td>...</td>\n",
       "      <td>...</td>\n",
       "      <td>...</td>\n",
       "      <td>...</td>\n",
       "      <td>...</td>\n",
       "      <td>...</td>\n",
       "      <td>...</td>\n",
       "      <td>...</td>\n",
       "      <td>...</td>\n",
       "      <td>...</td>\n",
       "      <td>...</td>\n",
       "      <td>...</td>\n",
       "      <td>...</td>\n",
       "      <td>...</td>\n",
       "      <td>...</td>\n",
       "      <td>...</td>\n",
       "      <td>...</td>\n",
       "      <td>...</td>\n",
       "    </tr>\n",
       "    <tr>\n",
       "      <th>5981</th>\n",
       "      <td>872</td>\n",
       "      <td>0.605668</td>\n",
       "      <td>-1.231190</td>\n",
       "      <td>0</td>\n",
       "      <td>0</td>\n",
       "      <td>1</td>\n",
       "      <td>1</td>\n",
       "      <td>42</td>\n",
       "      <td>1</td>\n",
       "      <td>0</td>\n",
       "      <td>1</td>\n",
       "      <td>0</td>\n",
       "      <td>0</td>\n",
       "      <td>2</td>\n",
       "      <td>2</td>\n",
       "      <td>2</td>\n",
       "      <td>2</td>\n",
       "      <td>2</td>\n",
       "      <td>1</td>\n",
       "      <td>2</td>\n",
       "      <td>1.193327</td>\n",
       "      <td>0</td>\n",
       "      <td>-0.954718</td>\n",
       "    </tr>\n",
       "    <tr>\n",
       "      <th>5982</th>\n",
       "      <td>479</td>\n",
       "      <td>0.513942</td>\n",
       "      <td>-0.512348</td>\n",
       "      <td>0</td>\n",
       "      <td>0</td>\n",
       "      <td>0</td>\n",
       "      <td>0</td>\n",
       "      <td>39</td>\n",
       "      <td>1</td>\n",
       "      <td>0</td>\n",
       "      <td>2</td>\n",
       "      <td>1</td>\n",
       "      <td>1</td>\n",
       "      <td>1</td>\n",
       "      <td>1</td>\n",
       "      <td>1</td>\n",
       "      <td>1</td>\n",
       "      <td>2</td>\n",
       "      <td>0</td>\n",
       "      <td>1</td>\n",
       "      <td>-1.452383</td>\n",
       "      <td>0</td>\n",
       "      <td>-0.560383</td>\n",
       "    </tr>\n",
       "    <tr>\n",
       "      <th>5983</th>\n",
       "      <td>196</td>\n",
       "      <td>1.087113</td>\n",
       "      <td>-1.310157</td>\n",
       "      <td>1</td>\n",
       "      <td>0</td>\n",
       "      <td>1</td>\n",
       "      <td>1</td>\n",
       "      <td>19</td>\n",
       "      <td>1</td>\n",
       "      <td>0</td>\n",
       "      <td>2</td>\n",
       "      <td>1</td>\n",
       "      <td>1</td>\n",
       "      <td>1</td>\n",
       "      <td>1</td>\n",
       "      <td>1</td>\n",
       "      <td>1</td>\n",
       "      <td>2</td>\n",
       "      <td>0</td>\n",
       "      <td>3</td>\n",
       "      <td>-1.468981</td>\n",
       "      <td>0</td>\n",
       "      <td>0.356361</td>\n",
       "    </tr>\n",
       "    <tr>\n",
       "      <th>5984</th>\n",
       "      <td>855</td>\n",
       "      <td>0.946173</td>\n",
       "      <td>-0.793369</td>\n",
       "      <td>1</td>\n",
       "      <td>0</td>\n",
       "      <td>1</td>\n",
       "      <td>1</td>\n",
       "      <td>35</td>\n",
       "      <td>1</td>\n",
       "      <td>0</td>\n",
       "      <td>2</td>\n",
       "      <td>1</td>\n",
       "      <td>1</td>\n",
       "      <td>1</td>\n",
       "      <td>1</td>\n",
       "      <td>1</td>\n",
       "      <td>1</td>\n",
       "      <td>1</td>\n",
       "      <td>0</td>\n",
       "      <td>2</td>\n",
       "      <td>-1.478940</td>\n",
       "      <td>0</td>\n",
       "      <td>-1.739175</td>\n",
       "    </tr>\n",
       "    <tr>\n",
       "      <th>5985</th>\n",
       "      <td>958</td>\n",
       "      <td>1.065073</td>\n",
       "      <td>-0.138758</td>\n",
       "      <td>1</td>\n",
       "      <td>0</td>\n",
       "      <td>0</td>\n",
       "      <td>0</td>\n",
       "      <td>31</td>\n",
       "      <td>1</td>\n",
       "      <td>2</td>\n",
       "      <td>1</td>\n",
       "      <td>0</td>\n",
       "      <td>2</td>\n",
       "      <td>2</td>\n",
       "      <td>0</td>\n",
       "      <td>2</td>\n",
       "      <td>2</td>\n",
       "      <td>1</td>\n",
       "      <td>1</td>\n",
       "      <td>2</td>\n",
       "      <td>1.294574</td>\n",
       "      <td>1</td>\n",
       "      <td>0.833270</td>\n",
       "    </tr>\n",
       "  </tbody>\n",
       "</table>\n",
       "<p>5986 rows × 23 columns</p>\n",
       "</div>"
      ],
      "text/plain": [
       "      City  Latitude  Longitude  Gender  Senior Citizen  Partner  Dependents  \\\n",
       "0      562 -0.941985   0.722603       0               0        1           0   \n",
       "1      275 -1.490950   1.446684       0               0        0           0   \n",
       "2      878  0.400931  -1.010860       1               1        1           1   \n",
       "3      562 -0.924069   0.745072       0               1        1           0   \n",
       "4      996  1.125898  -0.172791       0               1        0           0   \n",
       "...    ...       ...        ...     ...             ...      ...         ...   \n",
       "5981   872  0.605668  -1.231190       0               0        1           1   \n",
       "5982   479  0.513942  -0.512348       0               0        0           0   \n",
       "5983   196  1.087113  -1.310157       1               0        1           1   \n",
       "5984   855  0.946173  -0.793369       1               0        1           1   \n",
       "5985   958  1.065073  -0.138758       1               0        0           0   \n",
       "\n",
       "      Tenure Months  Phone Service  Multiple Lines  Internet Service  \\\n",
       "0                 1              0               1                 0   \n",
       "1                38              1               2                 0   \n",
       "2                64              1               2                 2   \n",
       "3                72              1               2                 0   \n",
       "4                42              1               2                 1   \n",
       "...             ...            ...             ...               ...   \n",
       "5981             42              1               0                 1   \n",
       "5982             39              1               0                 2   \n",
       "5983             19              1               0                 2   \n",
       "5984             35              1               0                 2   \n",
       "5985             31              1               2                 1   \n",
       "\n",
       "      Online Security  Online Backup  Device Protection  Tech Support  \\\n",
       "0                   0              2                  0             0   \n",
       "1                   2              2                  2             0   \n",
       "2                   1              1                  1             1   \n",
       "3                   2              2                  2             0   \n",
       "4                   0              0                  0             0   \n",
       "...               ...            ...                ...           ...   \n",
       "5981                0              0                  2             2   \n",
       "5982                1              1                  1             1   \n",
       "5983                1              1                  1             1   \n",
       "5984                1              1                  1             1   \n",
       "5985                0              2                  2             0   \n",
       "\n",
       "      Streaming TV  Streaming Movies  Contract  Paperless Billing  \\\n",
       "0                0                 0         0                  1   \n",
       "1                0                 0         0                  1   \n",
       "2                1                 1         2                  1   \n",
       "3                2                 2         2                  1   \n",
       "4                2                 0         0                  1   \n",
       "...            ...               ...       ...                ...   \n",
       "5981             2                 2         2                  1   \n",
       "5982             1                 1         2                  0   \n",
       "5983             1                 1         2                  0   \n",
       "5984             1                 1         1                  0   \n",
       "5985             2                 2         1                  1   \n",
       "\n",
       "      Payment Method  Monthly Charges  Churn Label      CLTV  \n",
       "0                  2        -1.148641            0 -0.365744  \n",
       "1                  0         0.056369            0  0.450732  \n",
       "2                  0        -1.329559            0  0.315074  \n",
       "3                  1         0.652234            0  0.506343  \n",
       "4                  2         0.670492            1  0.398491  \n",
       "...              ...              ...          ...       ...  \n",
       "5981               2         1.193327            0 -0.954718  \n",
       "5982               1        -1.452383            0 -0.560383  \n",
       "5983               3        -1.468981            0  0.356361  \n",
       "5984               2        -1.478940            0 -1.739175  \n",
       "5985               2         1.294574            1  0.833270  \n",
       "\n",
       "[5986 rows x 23 columns]"
      ]
     },
     "execution_count": 22,
     "metadata": {},
     "output_type": "execute_result"
    }
   ],
   "source": [
    "df_train_encoded"
   ]
  },
  {
   "cell_type": "markdown",
   "id": "527cea49-eea3-4fce-ad8c-527fb45231bd",
   "metadata": {},
   "source": [
    "### Treinando Arvore de Decisão"
   ]
  },
  {
   "cell_type": "markdown",
   "id": "a282dded-1f5b-4bef-964b-826c9e6ceb00",
   "metadata": {},
   "source": [
    "Para avaliar a precisão do modelo treinado, utilizarei apenas os dados de treino a princípio, pois são os únicos rotulados."
   ]
  },
  {
   "cell_type": "code",
   "execution_count": 23,
   "id": "5e057796-4df0-43d3-806f-3c525030ab98",
   "metadata": {},
   "outputs": [],
   "source": [
    "#Separando dados de entrada e saída\n",
    "X = df_train_encoded.loc[:,df_train_encoded.columns != 'Churn Label'].copy()\n",
    "y = df_train_encoded['Churn Label'].copy()"
   ]
  },
  {
   "cell_type": "code",
   "execution_count": 24,
   "id": "d8f9af1d-6541-4bce-bd3a-1047b30bb0fe",
   "metadata": {},
   "outputs": [
    {
     "data": {
      "text/plain": [
       "26.34480454393585"
      ]
     },
     "execution_count": 24,
     "metadata": {},
     "output_type": "execute_result"
    }
   ],
   "source": [
    "df_train_encoded[\"Churn Label\"].mean()*100"
   ]
  },
  {
   "cell_type": "markdown",
   "id": "eb1dcedc-5a1b-40ef-9c61-e6cf8415c418",
   "metadata": {},
   "source": [
    "Como pode ser visto, apenas 26 por cento dos rótulos são verdadeiros para Churn, isso pode gerar um modelo desbalanceado. Para isso utilizarei cros validação do tipo Stratified K-Fold Cross-Validation, que tem por objetivo avaliar o modelo tentando balancear cada um dos folds quanto às variáveis categóricas."
   ]
  },
  {
   "cell_type": "code",
   "execution_count": 25,
   "id": "2f606006-0ae8-4dcf-ba4c-b1c014b1e88f",
   "metadata": {},
   "outputs": [],
   "source": [
    "from sklearn.model_selection import train_test_split\n",
    "from sklearn.tree import DecisionTreeClassifier"
   ]
  },
  {
   "cell_type": "code",
   "execution_count": 26,
   "id": "e1f5c17c-b88e-4057-9026-0f97a4a9dd78",
   "metadata": {},
   "outputs": [],
   "source": [
    "#Instanciando a Arvore de Decisão\n",
    "dtc = DecisionTreeClassifier() "
   ]
  },
  {
   "cell_type": "code",
   "execution_count": 27,
   "id": "709225e2-bd5c-45fe-bdc6-47775e92bc30",
   "metadata": {},
   "outputs": [],
   "source": [
    "from sklearn.model_selection import cross_validate"
   ]
  },
  {
   "cell_type": "code",
   "execution_count": 28,
   "id": "c8406902-da59-4445-8b74-57d9019a607d",
   "metadata": {},
   "outputs": [
    {
     "name": "stdout",
     "output_type": "stream",
     "text": [
      "Tempo médio de treinamento: 0.19871096611022948\n",
      "Acurácia para cada fold: [0.7278798  0.74770259 0.74101921 0.75522139 0.75104428]\n",
      "Precisão média e variância: 0.6709823835403899 e 0.00012600587412962857\n",
      "Recall médio e variância: 0.6706014232682925 e 0.00011498616972566138\n",
      "F1-score médio e variância: 0.6706941486421061 e 0.00011830159023816901\n"
     ]
    }
   ],
   "source": [
    "from sklearn.model_selection import StratifiedKFold\n",
    "skf = StratifiedKFold(n_splits=5)#Instanciando um Stratified 5-Fold cross validator\n",
    "\n",
    "# Avaliando modelo a partir de várias métricas\n",
    "scoring = ['accuracy', 'precision_macro', 'recall_macro', 'f1_macro']\n",
    "scores_dtc = cross_validate(dtc, X, y, cv=skf, scoring=scoring)\n",
    "\n",
    "print(\"Tempo médio de treinamento:\", scores_dtc['fit_time'].mean())\n",
    "print(\"Acurácia para cada fold:\", scores_dtc['test_accuracy'])\n",
    "print(\"Precisão média e variância:\", scores_dtc['test_precision_macro'].mean(),\"e\", scores_dtc['test_precision_macro'].var())\n",
    "print(\"Recall médio e variância:\", scores_dtc['test_recall_macro'].mean(),\"e\", scores_dtc['test_recall_macro'].var())\n",
    "print(\"F1-score médio e variância:\", scores_dtc['test_f1_macro'].mean(),\"e\",scores_dtc['test_f1_macro'].var())"
   ]
  },
  {
   "cell_type": "markdown",
   "id": "fb3dda31-30b9-4b13-984e-5507f3e9952a",
   "metadata": {},
   "source": [
    "### Treinando modelo Random Forrest"
   ]
  },
  {
   "cell_type": "code",
   "execution_count": 29,
   "id": "212a74f0-4922-4625-813a-a35e1d0f3e17",
   "metadata": {},
   "outputs": [],
   "source": [
    "from sklearn.ensemble import RandomForestClassifier"
   ]
  },
  {
   "cell_type": "code",
   "execution_count": 30,
   "id": "e3cdd994-a2a6-4dd9-aff2-79af40b7b252",
   "metadata": {},
   "outputs": [],
   "source": [
    "#Instanciando modelo Random Forrest\n",
    "rf_clf = RandomForestClassifier(n_estimators=200, max_depth=10, min_samples_split=5, random_state=42)"
   ]
  },
  {
   "cell_type": "code",
   "execution_count": 31,
   "id": "7508a8e3-d6fd-49b3-99e5-4d81feae1314",
   "metadata": {},
   "outputs": [
    {
     "name": "stdout",
     "output_type": "stream",
     "text": [
      "Tempo médio de treinamento: 6.164443445205689\n",
      "Acurácia para cada fold: [0.8163606  0.81620718 0.79114453 0.79365079 0.81954887]\n",
      "Precisão média e variância: 0.758066816625939 e 0.0003218806583939652\n",
      "Recall médio e variância: 0.7134268406520163 e 0.00043256484536650393\n",
      "F1-score médio e variância: 0.7294052959452653 e 0.00042758514131187775\n"
     ]
    }
   ],
   "source": [
    "# Avaliando modelo a partir de várias métricas\n",
    "scores_rf = cross_validate(rf_clf, X, y, cv=skf, scoring=scoring)\n",
    "\n",
    "print(\"Tempo médio de treinamento:\", scores_rf['fit_time'].mean())\n",
    "print(\"Acurácia para cada fold:\", scores_rf['test_accuracy'])\n",
    "print(\"Precisão média e variância:\", scores_rf['test_precision_macro'].mean(),\"e\", scores_rf['test_precision_macro'].var())\n",
    "print(\"Recall médio e variância:\", scores_rf['test_recall_macro'].mean(),\"e\", scores_rf['test_recall_macro'].var())\n",
    "print(\"F1-score médio e variância:\", scores_rf['test_f1_macro'].mean(),\"e\",scores_rf['test_f1_macro'].var())"
   ]
  },
  {
   "cell_type": "markdown",
   "id": "55b38875-4470-4513-91e4-26f631b59689",
   "metadata": {},
   "source": [
    "### Aplicando PCA"
   ]
  },
  {
   "cell_type": "code",
   "execution_count": 32,
   "id": "fe4fa4c7-1eff-453a-8949-c75e038ec836",
   "metadata": {},
   "outputs": [],
   "source": [
    "from sklearn.decomposition import PCA\n",
    "# Inicializar o PCA\n",
    "pca = PCA(n_components=10)  # Reduzindo para 5 componentes principais\n",
    "\n",
    "# Ajustar o PCA nos dados de treino e transformá-los\n",
    "X_pca = pca.fit_transform(X)"
   ]
  },
  {
   "cell_type": "code",
   "execution_count": 33,
   "id": "fc83d5cb-ab15-46f0-8beb-c7d184f48495",
   "metadata": {},
   "outputs": [],
   "source": [
    "per_var = np.round(pca.explained_variance_ratio_* 100, decimals=1)\n",
    "labels = ['PC' + str(x) for x in range(1, len(per_var)+1)]"
   ]
  },
  {
   "cell_type": "code",
   "execution_count": 34,
   "id": "11aaae69-2caa-413c-8028-0e944215fb7f",
   "metadata": {},
   "outputs": [
    {
     "data": {
      "image/png": "[encoded data removed]",
      "text/plain": [
       "<Figure size 640x480 with 1 Axes>"
      ]
     },
     "metadata": {},
     "output_type": "display_data"
    }
   ],
   "source": [
    "plt.bar(x=range(1,len(per_var)+1), height=per_var, tick_label = labels)\n",
    "\n",
    "plt.ylabel('Percentual de Variância Explicada')\n",
    "plt.xlabel('Principal Component')\n",
    "plt.title('Scree Plot')\n",
    "\n",
    "plt.tight_layout()\n",
    "plt.show()"
   ]
  },
  {
   "cell_type": "code",
   "execution_count": 35,
   "id": "aa320058-7c0a-4578-b525-2db90d2f4d6c",
   "metadata": {},
   "outputs": [
    {
     "name": "stdout",
     "output_type": "stream",
     "text": [
      "Longitude         0.000078\n",
      "Latitude          0.000065\n",
      "Payment Method    0.000028\n",
      "Tech Support      0.000011\n",
      "Online Backup     0.000010\n",
      "Senior Citizen    0.000010\n",
      "CLTV              0.000010\n",
      "Phone Service     0.000008\n",
      "Gender           -0.000003\n",
      "Dependents       -0.000003\n",
      "dtype: float64\n"
     ]
    }
   ],
   "source": [
    "#Avaliando os scores de cada componente\n",
    "loading_scores = pd.Series(pca.components_[0], index=X.columns)\n",
    "\n",
    "sorted_loading_scores = loading_scores.sort_values(ascending=False)\n",
    "\n",
    "top_10_variables = sorted_loading_scores[:10].index.values\n",
    "print(loading_scores[top_10_variables])"
   ]
  },
  {
   "cell_type": "code",
   "execution_count": 36,
   "id": "10c4140b-f618-4c5f-a269-253d47c832f1",
   "metadata": {},
   "outputs": [
    {
     "name": "stdout",
     "output_type": "stream",
     "text": [
      "Tempo médio de treinamento: 14.868502473831176\n",
      "Precisão média e variância: 0.7302463822860434 e 0.00044765528323269677\n",
      "Recall médio e variância: 0.6843409914241803 e 0.000240850949231855\n",
      "F1-score médio e variância: 0.6996623959699887 e 0.0003048932315269388\n"
     ]
    }
   ],
   "source": [
    "# Avaliando modelo a partir de várias métricas\n",
    "scores_pca = cross_validate(rf_clf, X_pca, y, cv=skf, scoring=scoring)\n",
    "\n",
    "print(\"Tempo médio de treinamento:\", scores_pca['fit_time'].mean())\n",
    "print(\"Precisão média e variância:\", scores_pca['test_precision_macro'].mean(),\"e\", scores_pca['test_precision_macro'].var())\n",
    "print(\"Recall médio e variância:\", scores_pca['test_recall_macro'].mean(),\"e\", scores_pca['test_recall_macro'].var())\n",
    "print(\"F1-score médio e variância:\", scores_pca['test_f1_macro'].mean(),\"e\",scores_pca['test_f1_macro'].var())"
   ]
  },
  {
   "cell_type": "markdown",
   "id": "1a2a861f-cee6-4484-89b3-a01c9fe4f7ce",
   "metadata": {},
   "source": [
    "### Analise dos Resultados"
   ]
  },
  {
   "cell_type": "markdown",
   "id": "0c506df2-8c7f-479c-890f-3fc5996eed21",
   "metadata": {},
   "source": [
    "##### Métricas"
   ]
  },
  {
   "cell_type": "markdown",
   "id": "a46f6e0c-aa35-470c-a42c-5bb12b0de79d",
   "metadata": {},
   "source": [
    "Dos modelos treinados, o que teve melhor desempenho para todas as métricas foi o Random Forrest, o que já era esperado por se tratar de um modelo mais robusto em geral se comparado com modelos."
   ]
  },
  {
   "cell_type": "markdown",
   "id": "fd2d5a25-16f5-4c34-81f0-29c5b6489317",
   "metadata": {},
   "source": [
    "##### Validação Cruzada"
   ]
  },
  {
   "cell_type": "markdown",
   "id": "b7863892-d244-47ae-bb10-7f566834c095",
   "metadata": {},
   "source": [
    "- K-Fold Cross-Validation: Os dados são divididos em K subconjuntos (folds). O modelo é treinado em K-1 folds e testado no fold restante. Esse processo é repetido K vezes, cada vez usando um fold diferente como conjunto de teste. A média das métricas de desempenho em todos os folds é então calculada.\n",
    "- Stratified K-Fold Cross-Validation: Os dados também são divididos em K subconjuntos, mas dessa vez são divididos de modo que cada fold seja balanceado quanto às variáveis categóricas de dataset. Esse método é bastante utilizado para classificadores binários, o que impede que amostra com rótulos desbalanceados tornem o modelo enviesado."
   ]
  },
  {
   "cell_type": "markdown",
   "id": "2540abc7-f497-412a-a2ab-3f477ce816a6",
   "metadata": {},
   "source": [
    "O tipo de validação cruzada utilizada no caso estudado foi justamente Stratified K-Fold Cross-Validation, por ser exatamento o caso ideal para uso, dado que estamos tentando fazer uma classificação binária tendo apenas aproximandamente 25% dos dados com rótulo true."
   ]
  },
  {
   "cell_type": "markdown",
   "id": "3234f561-ccad-4a21-a21a-bd935c37da0a",
   "metadata": {},
   "source": [
    "##### Aplicação do PCA"
   ]
  },
  {
   "cell_type": "markdown",
   "id": "9ef26a15-a410-4160-9008-0afa86fd19cb",
   "metadata": {},
   "source": [
    "Ao aplicar PCA para reduzir a dimensão do dataset de treinamento, foi observado uma pequena diminuição dos para todas as métricas de performance calculadas. E surpreendentemente o tempo de treinamento médio aumentou. O que pode significar que algumas das features returadas tinham um papel importante separar os dados em categorias que levam à uma boa classificação e o modelo teve mais dificuldade pra encontrar as melhores perguntas para a tomada de decisão."
   ]
  },
  {
   "cell_type": "markdown",
   "id": "c3548cb2-fdab-4fc9-9c7e-79f7cd7785f1",
   "metadata": {},
   "source": [
    "### Gerando previsões para os dados de teste"
   ]
  },
  {
   "cell_type": "code",
   "execution_count": 37,
   "id": "e1f02264-24f2-44c8-9025-6daa263b0168",
   "metadata": {},
   "outputs": [],
   "source": [
    "#Separando dados de entrada\n",
    "X_test = df_test_encoded.loc[:,df_test_encoded.columns != 'Churn Label'].copy()"
   ]
  },
  {
   "cell_type": "code",
   "execution_count": 38,
   "id": "4c3711b5-c1a1-4c65-bfbf-e07d2dd60f1e",
   "metadata": {},
   "outputs": [
    {
     "data": {
      "text/html": [
       "<style>#sk-container-id-1 {\n",
       "  /* Definition of color scheme common for light and dark mode */\n",
       "  --sklearn-color-text: black;\n",
       "  --sklearn-color-line: gray;\n",
       "  /* Definition of color scheme for unfitted estimators */\n",
       "  --sklearn-color-unfitted-level-0: #fff5e6;\n",
       "  --sklearn-color-unfitted-level-1: #f6e4d2;\n",
       "  --sklearn-color-unfitted-level-2: #ffe0b3;\n",
       "  --sklearn-color-unfitted-level-3: chocolate;\n",
       "  /* Definition of color scheme for fitted estimators */\n",
       "  --sklearn-color-fitted-level-0: #f0f8ff;\n",
       "  --sklearn-color-fitted-level-1: #d4ebff;\n",
       "  --sklearn-color-fitted-level-2: #b3dbfd;\n",
       "  --sklearn-color-fitted-level-3: cornflowerblue;\n",
       "\n",
       "  /* Specific color for light theme */\n",
       "  --sklearn-color-text-on-default-background: var(--sg-text-color, var(--theme-code-foreground, var(--jp-content-font-color1, black)));\n",
       "  --sklearn-color-background: var(--sg-background-color, var(--theme-background, var(--jp-layout-color0, white)));\n",
       "  --sklearn-color-border-box: var(--sg-text-color, var(--theme-code-foreground, var(--jp-content-font-color1, black)));\n",
       "  --sklearn-color-icon: #696969;\n",
       "\n",
       "  @media (prefers-color-scheme: dark) {\n",
       "    /* Redefinition of color scheme for dark theme */\n",
       "    --sklearn-color-text-on-default-background: var(--sg-text-color, var(--theme-code-foreground, var(--jp-content-font-color1, white)));\n",
       "    --sklearn-color-background: var(--sg-background-color, var(--theme-background, var(--jp-layout-color0, #111)));\n",
       "    --sklearn-color-border-box: var(--sg-text-color, var(--theme-code-foreground, var(--jp-content-font-color1, white)));\n",
       "    --sklearn-color-icon: #878787;\n",
       "  }\n",
       "}\n",
       "\n",
       "#sk-container-id-1 {\n",
       "  color: var(--sklearn-color-text);\n",
       "}\n",
       "\n",
       "#sk-container-id-1 pre {\n",
       "  padding: 0;\n",
       "}\n",
       "\n",
       "#sk-container-id-1 input.sk-hidden--visually {\n",
       "  border: 0;\n",
       "  clip: rect(1px 1px 1px 1px);\n",
       "  clip: rect(1px, 1px, 1px, 1px);\n",
       "  height: 1px;\n",
       "  margin: -1px;\n",
       "  overflow: hidden;\n",
       "  padding: 0;\n",
       "  position: absolute;\n",
       "  width: 1px;\n",
       "}\n",
       "\n",
       "#sk-container-id-1 div.sk-dashed-wrapped {\n",
       "  border: 1px dashed var(--sklearn-color-line);\n",
       "  margin: 0 0.4em 0.5em 0.4em;\n",
       "  box-sizing: border-box;\n",
       "  padding-bottom: 0.4em;\n",
       "  background-color: var(--sklearn-color-background);\n",
       "}\n",
       "\n",
       "#sk-container-id-1 div.sk-container {\n",
       "  /* jupyter's `normalize.less` sets `[hidden] { display: none; }`\n",
       "     but bootstrap.min.css set `[hidden] { display: none !important; }`\n",
       "     so we also need the `!important` here to be able to override the\n",
       "     default hidden behavior on the sphinx rendered scikit-learn.org.\n",
       "     See: https://github.com/scikit-learn/scikit-learn/issues/21755 */\n",
       "  display: inline-block !important;\n",
       "  position: relative;\n",
       "}\n",
       "\n",
       "#sk-container-id-1 div.sk-text-repr-fallback {\n",
       "  display: none;\n",
       "}\n",
       "\n",
       "div.sk-parallel-item,\n",
       "div.sk-serial,\n",
       "div.sk-item {\n",
       "  /* draw centered vertical line to link estimators */\n",
       "  background-image: linear-gradient(var(--sklearn-color-text-on-default-background), var(--sklearn-color-text-on-default-background));\n",
       "  background-size: 2px 100%;\n",
       "  background-repeat: no-repeat;\n",
       "  background-position: center center;\n",
       "}\n",
       "\n",
       "/* Parallel-specific style estimator block */\n",
       "\n",
       "#sk-container-id-1 div.sk-parallel-item::after {\n",
       "  content: \"\";\n",
       "  width: 100%;\n",
       "  border-bottom: 2px solid var(--sklearn-color-text-on-default-background);\n",
       "  flex-grow: 1;\n",
       "}\n",
       "\n",
       "#sk-container-id-1 div.sk-parallel {\n",
       "  display: flex;\n",
       "  align-items: stretch;\n",
       "  justify-content: center;\n",
       "  background-color: var(--sklearn-color-background);\n",
       "  position: relative;\n",
       "}\n",
       "\n",
       "#sk-container-id-1 div.sk-parallel-item {\n",
       "  display: flex;\n",
       "  flex-direction: column;\n",
       "}\n",
       "\n",
       "#sk-container-id-1 div.sk-parallel-item:first-child::after {\n",
       "  align-self: flex-end;\n",
       "  width: 50%;\n",
       "}\n",
       "\n",
       "#sk-container-id-1 div.sk-parallel-item:last-child::after {\n",
       "  align-self: flex-start;\n",
       "  width: 50%;\n",
       "}\n",
       "\n",
       "#sk-container-id-1 div.sk-parallel-item:only-child::after {\n",
       "  width: 0;\n",
       "}\n",
       "\n",
       "/* Serial-specific style estimator block */\n",
       "\n",
       "#sk-container-id-1 div.sk-serial {\n",
       "  display: flex;\n",
       "  flex-direction: column;\n",
       "  align-items: center;\n",
       "  background-color: var(--sklearn-color-background);\n",
       "  padding-right: 1em;\n",
       "  padding-left: 1em;\n",
       "}\n",
       "\n",
       "\n",
       "/* Toggleable style: style used for estimator/Pipeline/ColumnTransformer box that is\n",
       "clickable and can be expanded/collapsed.\n",
       "- Pipeline and ColumnTransformer use this feature and define the default style\n",
       "- Estimators will overwrite some part of the style using the `sk-estimator` class\n",
       "*/\n",
       "\n",
       "/* Pipeline and ColumnTransformer style (default) */\n",
       "\n",
       "#sk-container-id-1 div.sk-toggleable {\n",
       "  /* Default theme specific background. It is overwritten whether we have a\n",
       "  specific estimator or a Pipeline/ColumnTransformer */\n",
       "  background-color: var(--sklearn-color-background);\n",
       "}\n",
       "\n",
       "/* Toggleable label */\n",
       "#sk-container-id-1 label.sk-toggleable__label {\n",
       "  cursor: pointer;\n",
       "  display: block;\n",
       "  width: 100%;\n",
       "  margin-bottom: 0;\n",
       "  padding: 0.5em;\n",
       "  box-sizing: border-box;\n",
       "  text-align: center;\n",
       "}\n",
       "\n",
       "#sk-container-id-1 label.sk-toggleable__label-arrow:before {\n",
       "  /* Arrow on the left of the label */\n",
       "  content: \"▸\";\n",
       "  float: left;\n",
       "  margin-right: 0.25em;\n",
       "  color: var(--sklearn-color-icon);\n",
       "}\n",
       "\n",
       "#sk-container-id-1 label.sk-toggleable__label-arrow:hover:before {\n",
       "  color: var(--sklearn-color-text);\n",
       "}\n",
       "\n",
       "/* Toggleable content - dropdown */\n",
       "\n",
       "#sk-container-id-1 div.sk-toggleable__content {\n",
       "  max-height: 0;\n",
       "  max-width: 0;\n",
       "  overflow: hidden;\n",
       "  text-align: left;\n",
       "  /* unfitted */\n",
       "  background-color: var(--sklearn-color-unfitted-level-0);\n",
       "}\n",
       "\n",
       "#sk-container-id-1 div.sk-toggleable__content.fitted {\n",
       "  /* fitted */\n",
       "  background-color: var(--sklearn-color-fitted-level-0);\n",
       "}\n",
       "\n",
       "#sk-container-id-1 div.sk-toggleable__content pre {\n",
       "  margin: 0.2em;\n",
       "  border-radius: 0.25em;\n",
       "  color: var(--sklearn-color-text);\n",
       "  /* unfitted */\n",
       "  background-color: var(--sklearn-color-unfitted-level-0);\n",
       "}\n",
       "\n",
       "#sk-container-id-1 div.sk-toggleable__content.fitted pre {\n",
       "  /* unfitted */\n",
       "  background-color: var(--sklearn-color-fitted-level-0);\n",
       "}\n",
       "\n",
       "#sk-container-id-1 input.sk-toggleable__control:checked~div.sk-toggleable__content {\n",
       "  /* Expand drop-down */\n",
       "  max-height: 200px;\n",
       "  max-width: 100%;\n",
       "  overflow: auto;\n",
       "}\n",
       "\n",
       "#sk-container-id-1 input.sk-toggleable__control:checked~label.sk-toggleable__label-arrow:before {\n",
       "  content: \"▾\";\n",
       "}\n",
       "\n",
       "/* Pipeline/ColumnTransformer-specific style */\n",
       "\n",
       "#sk-container-id-1 div.sk-label input.sk-toggleable__control:checked~label.sk-toggleable__label {\n",
       "  color: var(--sklearn-color-text);\n",
       "  background-color: var(--sklearn-color-unfitted-level-2);\n",
       "}\n",
       "\n",
       "#sk-container-id-1 div.sk-label.fitted input.sk-toggleable__control:checked~label.sk-toggleable__label {\n",
       "  background-color: var(--sklearn-color-fitted-level-2);\n",
       "}\n",
       "\n",
       "/* Estimator-specific style */\n",
       "\n",
       "/* Colorize estimator box */\n",
       "#sk-container-id-1 div.sk-estimator input.sk-toggleable__control:checked~label.sk-toggleable__label {\n",
       "  /* unfitted */\n",
       "  background-color: var(--sklearn-color-unfitted-level-2);\n",
       "}\n",
       "\n",
       "#sk-container-id-1 div.sk-estimator.fitted input.sk-toggleable__control:checked~label.sk-toggleable__label {\n",
       "  /* fitted */\n",
       "  background-color: var(--sklearn-color-fitted-level-2);\n",
       "}\n",
       "\n",
       "#sk-container-id-1 div.sk-label label.sk-toggleable__label,\n",
       "#sk-container-id-1 div.sk-label label {\n",
       "  /* The background is the default theme color */\n",
       "  color: var(--sklearn-color-text-on-default-background);\n",
       "}\n",
       "\n",
       "/* On hover, darken the color of the background */\n",
       "#sk-container-id-1 div.sk-label:hover label.sk-toggleable__label {\n",
       "  color: var(--sklearn-color-text);\n",
       "  background-color: var(--sklearn-color-unfitted-level-2);\n",
       "}\n",
       "\n",
       "/* Label box, darken color on hover, fitted */\n",
       "#sk-container-id-1 div.sk-label.fitted:hover label.sk-toggleable__label.fitted {\n",
       "  color: var(--sklearn-color-text);\n",
       "  background-color: var(--sklearn-color-fitted-level-2);\n",
       "}\n",
       "\n",
       "/* Estimator label */\n",
       "\n",
       "#sk-container-id-1 div.sk-label label {\n",
       "  font-family: monospace;\n",
       "  font-weight: bold;\n",
       "  display: inline-block;\n",
       "  line-height: 1.2em;\n",
       "}\n",
       "\n",
       "#sk-container-id-1 div.sk-label-container {\n",
       "  text-align: center;\n",
       "}\n",
       "\n",
       "/* Estimator-specific */\n",
       "#sk-container-id-1 div.sk-estimator {\n",
       "  font-family: monospace;\n",
       "  border: 1px dotted var(--sklearn-color-border-box);\n",
       "  border-radius: 0.25em;\n",
       "  box-sizing: border-box;\n",
       "  margin-bottom: 0.5em;\n",
       "  /* unfitted */\n",
       "  background-color: var(--sklearn-color-unfitted-level-0);\n",
       "}\n",
       "\n",
       "#sk-container-id-1 div.sk-estimator.fitted {\n",
       "  /* fitted */\n",
       "  background-color: var(--sklearn-color-fitted-level-0);\n",
       "}\n",
       "\n",
       "/* on hover */\n",
       "#sk-container-id-1 div.sk-estimator:hover {\n",
       "  /* unfitted */\n",
       "  background-color: var(--sklearn-color-unfitted-level-2);\n",
       "}\n",
       "\n",
       "#sk-container-id-1 div.sk-estimator.fitted:hover {\n",
       "  /* fitted */\n",
       "  background-color: var(--sklearn-color-fitted-level-2);\n",
       "}\n",
       "\n",
       "/* Specification for estimator info (e.g. \"i\" and \"?\") */\n",
       "\n",
       "/* Common style for \"i\" and \"?\" */\n",
       "\n",
       ".sk-estimator-doc-link,\n",
       "a:link.sk-estimator-doc-link,\n",
       "a:visited.sk-estimator-doc-link {\n",
       "  float: right;\n",
       "  font-size: smaller;\n",
       "  line-height: 1em;\n",
       "  font-family: monospace;\n",
       "  background-color: var(--sklearn-color-background);\n",
       "  border-radius: 1em;\n",
       "  height: 1em;\n",
       "  width: 1em;\n",
       "  text-decoration: none !important;\n",
       "  margin-left: 1ex;\n",
       "  /* unfitted */\n",
       "  border: var(--sklearn-color-unfitted-level-1) 1pt solid;\n",
       "  color: var(--sklearn-color-unfitted-level-1);\n",
       "}\n",
       "\n",
       ".sk-estimator-doc-link.fitted,\n",
       "a:link.sk-estimator-doc-link.fitted,\n",
       "a:visited.sk-estimator-doc-link.fitted {\n",
       "  /* fitted */\n",
       "  border: var(--sklearn-color-fitted-level-1) 1pt solid;\n",
       "  color: var(--sklearn-color-fitted-level-1);\n",
       "}\n",
       "\n",
       "/* On hover */\n",
       "div.sk-estimator:hover .sk-estimator-doc-link:hover,\n",
       ".sk-estimator-doc-link:hover,\n",
       "div.sk-label-container:hover .sk-estimator-doc-link:hover,\n",
       ".sk-estimator-doc-link:hover {\n",
       "  /* unfitted */\n",
       "  background-color: var(--sklearn-color-unfitted-level-3);\n",
       "  color: var(--sklearn-color-background);\n",
       "  text-decoration: none;\n",
       "}\n",
       "\n",
       "div.sk-estimator.fitted:hover .sk-estimator-doc-link.fitted:hover,\n",
       ".sk-estimator-doc-link.fitted:hover,\n",
       "div.sk-label-container:hover .sk-estimator-doc-link.fitted:hover,\n",
       ".sk-estimator-doc-link.fitted:hover {\n",
       "  /* fitted */\n",
       "  background-color: var(--sklearn-color-fitted-level-3);\n",
       "  color: var(--sklearn-color-background);\n",
       "  text-decoration: none;\n",
       "}\n",
       "\n",
       "/* Span, style for the box shown on hovering the info icon */\n",
       ".sk-estimator-doc-link span {\n",
       "  display: none;\n",
       "  z-index: 9999;\n",
       "  position: relative;\n",
       "  font-weight: normal;\n",
       "  right: .2ex;\n",
       "  padding: .5ex;\n",
       "  margin: .5ex;\n",
       "  width: min-content;\n",
       "  min-width: 20ex;\n",
       "  max-width: 50ex;\n",
       "  color: var(--sklearn-color-text);\n",
       "  box-shadow: 2pt 2pt 4pt #999;\n",
       "  /* unfitted */\n",
       "  background: var(--sklearn-color-unfitted-level-0);\n",
       "  border: .5pt solid var(--sklearn-color-unfitted-level-3);\n",
       "}\n",
       "\n",
       ".sk-estimator-doc-link.fitted span {\n",
       "  /* fitted */\n",
       "  background: var(--sklearn-color-fitted-level-0);\n",
       "  border: var(--sklearn-color-fitted-level-3);\n",
       "}\n",
       "\n",
       ".sk-estimator-doc-link:hover span {\n",
       "  display: block;\n",
       "}\n",
       "\n",
       "/* \"?\"-specific style due to the `<a>` HTML tag */\n",
       "\n",
       "#sk-container-id-1 a.estimator_doc_link {\n",
       "  float: right;\n",
       "  font-size: 1rem;\n",
       "  line-height: 1em;\n",
       "  font-family: monospace;\n",
       "  background-color: var(--sklearn-color-background);\n",
       "  border-radius: 1rem;\n",
       "  height: 1rem;\n",
       "  width: 1rem;\n",
       "  text-decoration: none;\n",
       "  /* unfitted */\n",
       "  color: var(--sklearn-color-unfitted-level-1);\n",
       "  border: var(--sklearn-color-unfitted-level-1) 1pt solid;\n",
       "}\n",
       "\n",
       "#sk-container-id-1 a.estimator_doc_link.fitted {\n",
       "  /* fitted */\n",
       "  border: var(--sklearn-color-fitted-level-1) 1pt solid;\n",
       "  color: var(--sklearn-color-fitted-level-1);\n",
       "}\n",
       "\n",
       "/* On hover */\n",
       "#sk-container-id-1 a.estimator_doc_link:hover {\n",
       "  /* unfitted */\n",
       "  background-color: var(--sklearn-color-unfitted-level-3);\n",
       "  color: var(--sklearn-color-background);\n",
       "  text-decoration: none;\n",
       "}\n",
       "\n",
       "#sk-container-id-1 a.estimator_doc_link.fitted:hover {\n",
       "  /* fitted */\n",
       "  background-color: var(--sklearn-color-fitted-level-3);\n",
       "}\n",
       "</style><div id=\"sk-container-id-1\" class=\"sk-top-container\"><div class=\"sk-text-repr-fallback\"><pre>RandomForestClassifier(max_depth=10, min_samples_split=5, n_estimators=200,\n",
       "                       random_state=42)</pre><b>In a Jupyter environment, please rerun this cell to show the HTML representation or trust the notebook. <br />On GitHub, the HTML representation is unable to render, please try loading this page with nbviewer.org.</b></div><div class=\"sk-container\" hidden><div class=\"sk-item\"><div class=\"sk-estimator fitted sk-toggleable\"><input class=\"sk-toggleable__control sk-hidden--visually\" id=\"sk-estimator-id-1\" type=\"checkbox\" checked><label for=\"sk-estimator-id-1\" class=\"sk-toggleable__label fitted sk-toggleable__label-arrow fitted\">&nbsp;&nbsp;RandomForestClassifier<a class=\"sk-estimator-doc-link fitted\" rel=\"noreferrer\" target=\"_blank\" href=\"https://scikit-learn.org/1.4/modules/generated/sklearn.ensemble.RandomForestClassifier.html\">?<span>Documentation for RandomForestClassifier</span></a><span class=\"sk-estimator-doc-link fitted\">i<span>Fitted</span></span></label><div class=\"sk-toggleable__content fitted\"><pre>RandomForestClassifier(max_depth=10, min_samples_split=5, n_estimators=200,\n",
       "                       random_state=42)</pre></div> </div></div></div></div>"
      ],
      "text/plain": [
       "RandomForestClassifier(max_depth=10, min_samples_split=5, n_estimators=200,\n",
       "                       random_state=42)"
      ]
     },
     "execution_count": 38,
     "metadata": {},
     "output_type": "execute_result"
    }
   ],
   "source": [
    "#Treinando RandomForrest\n",
    "rf_clf.fit(X, y)"
   ]
  },
  {
   "cell_type": "code",
   "execution_count": 39,
   "id": "57af5902-19ab-4f15-b8f1-55f1e1906a34",
   "metadata": {},
   "outputs": [],
   "source": [
    "#Obtendo previsões a partir dos dados de teste\n",
    "predictions = rf_clf.predict(X_test)"
   ]
  },
  {
   "cell_type": "code",
   "execution_count": 40,
   "id": "adeef3ec-5a30-4797-8e4a-3943f21e7965",
   "metadata": {},
   "outputs": [],
   "source": [
    "#Criando DataFrame com previsões\n",
    "df_predictions = df_test.loc[:,[\"CustomerID\"]].copy()\n",
    "\n",
    "df_predictions[\"Churn Label\"] = pd.Series(predictions).map({1:\"Yes\", 0:\"No\"}) "
   ]
  },
  {
   "cell_type": "code",
   "execution_count": 41,
   "id": "efae0304-9724-493d-907b-2a486b0bee28",
   "metadata": {},
   "outputs": [
    {
     "data": {
      "text/html": [
       "<div>\n",
       "<style scoped>\n",
       "    .dataframe tbody tr th:only-of-type {\n",
       "        vertical-align: middle;\n",
       "    }\n",
       "\n",
       "    .dataframe tbody tr th {\n",
       "        vertical-align: top;\n",
       "    }\n",
       "\n",
       "    .dataframe thead th {\n",
       "        text-align: right;\n",
       "    }\n",
       "</style>\n",
       "<table border=\"1\" class=\"dataframe\">\n",
       "  <thead>\n",
       "    <tr style=\"text-align: right;\">\n",
       "      <th></th>\n",
       "      <th>CustomerID</th>\n",
       "      <th>Churn Label</th>\n",
       "    </tr>\n",
       "  </thead>\n",
       "  <tbody>\n",
       "    <tr>\n",
       "      <th>0</th>\n",
       "      <td>2189-WWOEW</td>\n",
       "      <td>Yes</td>\n",
       "    </tr>\n",
       "    <tr>\n",
       "      <th>1</th>\n",
       "      <td>2446-ZKVAF</td>\n",
       "      <td>No</td>\n",
       "    </tr>\n",
       "    <tr>\n",
       "      <th>2</th>\n",
       "      <td>4986-MXSFP</td>\n",
       "      <td>No</td>\n",
       "    </tr>\n",
       "    <tr>\n",
       "      <th>3</th>\n",
       "      <td>5868-YWPDW</td>\n",
       "      <td>Yes</td>\n",
       "    </tr>\n",
       "    <tr>\n",
       "      <th>4</th>\n",
       "      <td>9412-GHEEC</td>\n",
       "      <td>No</td>\n",
       "    </tr>\n",
       "    <tr>\n",
       "      <th>...</th>\n",
       "      <td>...</td>\n",
       "      <td>...</td>\n",
       "    </tr>\n",
       "    <tr>\n",
       "      <th>1052</th>\n",
       "      <td>9330-VOFSZ</td>\n",
       "      <td>No</td>\n",
       "    </tr>\n",
       "    <tr>\n",
       "      <th>1053</th>\n",
       "      <td>0886-QGENL</td>\n",
       "      <td>No</td>\n",
       "    </tr>\n",
       "    <tr>\n",
       "      <th>1054</th>\n",
       "      <td>3865-YIOTT</td>\n",
       "      <td>No</td>\n",
       "    </tr>\n",
       "    <tr>\n",
       "      <th>1055</th>\n",
       "      <td>3009-JWMPU</td>\n",
       "      <td>No</td>\n",
       "    </tr>\n",
       "    <tr>\n",
       "      <th>1056</th>\n",
       "      <td>1097-FSPVW</td>\n",
       "      <td>No</td>\n",
       "    </tr>\n",
       "  </tbody>\n",
       "</table>\n",
       "<p>1057 rows × 2 columns</p>\n",
       "</div>"
      ],
      "text/plain": [
       "      CustomerID Churn Label\n",
       "0     2189-WWOEW         Yes\n",
       "1     2446-ZKVAF          No\n",
       "2     4986-MXSFP          No\n",
       "3     5868-YWPDW         Yes\n",
       "4     9412-GHEEC          No\n",
       "...          ...         ...\n",
       "1052  9330-VOFSZ          No\n",
       "1053  0886-QGENL          No\n",
       "1054  3865-YIOTT          No\n",
       "1055  3009-JWMPU          No\n",
       "1056  1097-FSPVW          No\n",
       "\n",
       "[1057 rows x 2 columns]"
      ]
     },
     "execution_count": 41,
     "metadata": {},
     "output_type": "execute_result"
    }
   ],
   "source": [
    "df_predictions"
   ]
  },
  {
   "cell_type": "code",
   "execution_count": 42,
   "id": "8ea7a6cb-1d75-4ceb-865c-d30bfd6f891b",
   "metadata": {},
   "outputs": [],
   "source": [
    "#Exportando dataframe resultante\n",
    "#df_predictions.to_csv(\"../results/sample_submission.csv\", index=False)"
   ]
  }
 ],
 "metadata": {
  "kernelspec": {
   "display_name": "cis_ieee-env",
   "language": "python",
   "name": "cis_ieee-env"
  },
  "language_info": {
   "codemirror_mode": {
    "name": "ipython",
    "version": 3
   },
   "file_extension": ".py",
   "mimetype": "text/x-python",
   "name": "python",
   "nbconvert_exporter": "python",
   "pygments_lexer": "ipython3",
   "version": "3.12.4"
  }
 },
 "nbformat": 4,
 "nbformat_minor": 5
}
