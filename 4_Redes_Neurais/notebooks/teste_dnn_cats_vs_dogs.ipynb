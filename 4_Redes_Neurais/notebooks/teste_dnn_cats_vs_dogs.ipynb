{
 "cells": [
  {
   "cell_type": "code",
   "execution_count": 1,
   "id": "db4386ba-1afe-45d3-98d2-0b09443cfc20",
   "metadata": {},
   "outputs": [],
   "source": [
    "import matplotlib.pyplot as plt\n",
    "import seaborn as sns\n",
    "import numpy as np\n",
    "import pandas as pd\n",
    "import PIL"
   ]
  },
  {
   "cell_type": "code",
   "execution_count": 2,
   "id": "d6b6d6f2-dbba-4315-bbdd-bb4085f6e623",
   "metadata": {},
   "outputs": [],
   "source": [
    "from DNN.models.custom_model import CustomModel\n",
    "from DNN.layers.layer import Dense\n",
    "from DNN.layers.activation import ReLU, Sigmoid\n",
    "from DNN.training.loss import CrossEntropyLoss\n",
    "from DNN.training.optimizer import GradientDescent, Adam\n",
    "from DNN.training.trainer import Trainer"
   ]
  },
  {
   "cell_type": "code",
   "execution_count": 3,
   "id": "eaff583f-ab5d-4d71-93e2-a4c234deadda",
   "metadata": {},
   "outputs": [],
   "source": [
    "import zipfile\n",
    "import os"
   ]
  },
  {
   "cell_type": "code",
   "execution_count": 4,
   "id": "3458a124-9d23-4266-b90a-4ae0c05b275e",
   "metadata": {},
   "outputs": [],
   "source": [
    "path_train = \"dataset_teste/train\"\n",
    "path_test = \"dataset_test/validation\""
   ]
  },
  {
   "cell_type": "code",
   "execution_count": 5,
   "id": "27e26334-6bed-45f0-a780-f8b35b31fc7c",
   "metadata": {},
   "outputs": [],
   "source": [
    "mapping = {\"cats\":0,\n",
    "          \"dogs\":1}"
   ]
  },
  {
   "cell_type": "code",
   "execution_count": 6,
   "id": "d49f5a38-f187-423c-b9af-19453f8fb936",
   "metadata": {},
   "outputs": [],
   "source": [
    "import glob"
   ]
  },
  {
   "cell_type": "code",
   "execution_count": 7,
   "id": "a6afb7b2-1c79-4943-a21b-b4d45f96e309",
   "metadata": {},
   "outputs": [],
   "source": [
    "train_cats = glob.glob(path_train+\"/cats/*\")\n",
    "train_dogs = glob.glob(path_train+\"/dogs/*\")\n",
    "test_cats = glob.glob(path_test+\"/cats/*\")\n",
    "test_dogs = glob.glob(path_test+\"/dogs/*\")"
   ]
  },
  {
   "cell_type": "code",
   "execution_count": 8,
   "id": "384af077-0b06-4623-93af-6b1a4bbda1d7",
   "metadata": {},
   "outputs": [],
   "source": [
    "X_train = [np.array(PIL.Image.open(img)) for img in train_cats+train_dogs]\n",
    "y_train = [0]*len(train_cats)+[1]*len(train_dogs)\n",
    "\n",
    "X_test = [np.array(PIL.Image.open(img)) for img in test_cats+test_dogs]\n",
    "y_test = [0]*len(test_cats)+[1]*len(test_dogs)"
   ]
  },
  {
   "cell_type": "code",
   "execution_count": 9,
   "id": "f570cc34-0c42-4b3f-847f-16deeecdf217",
   "metadata": {},
   "outputs": [],
   "source": [
    "img_size = (64,64)"
   ]
  },
  {
   "cell_type": "code",
   "execution_count": 10,
   "id": "db107a1d-9e80-4a04-873b-e88b93e12f13",
   "metadata": {},
   "outputs": [],
   "source": [
    "for i in range(len(X_train)):\n",
    "    img = PIL.Image.fromarray(X_train[i])\n",
    "    X_train[i] = (np.array(img.resize(img_size))/255).flatten()\n",
    "\n",
    "for i in range(len(X_test)):\n",
    "    img = PIL.Image.fromarray(X_test[i])\n",
    "    X_test[i] = (np.array(img.resize(img_size))/255).flatten()"
   ]
  },
  {
   "cell_type": "code",
   "execution_count": 11,
   "id": "85931eda-53a7-4ee1-bceb-f3b12fecda6a",
   "metadata": {},
   "outputs": [],
   "source": [
    "X_train = np.array(X_train)\n",
    "X_test = np.array(X_test)\n",
    "y_train = np.array(y_train)\n",
    "y_test = np.array(y_test)"
   ]
  },
  {
   "cell_type": "code",
   "execution_count": 12,
   "id": "7cdc956a-a7f3-4ca6-83d3-b37921adb0f9",
   "metadata": {},
   "outputs": [],
   "source": [
    "#"
   ]
  },
  {
   "cell_type": "code",
   "execution_count": 13,
   "id": "e34e3993-190b-4272-b2af-f1ecf6f92ca3",
   "metadata": {},
   "outputs": [],
   "source": [
    "#Initializing model, loss function and optimizer \n",
    "model = CustomModel([\n",
    "    Dense(12288, 200),\n",
    "    ReLU(),\n",
    "    Dense(200,20),\n",
    "    ReLU(),\n",
    "    Dense(20,7),\n",
    "    ReLU(),\n",
    "    Dense(7,1),\n",
    "    Sigmoid()])\n",
    "\n",
    "loss_func = CrossEntropyLoss()\n",
    "optimizer = GradientDescent(learning_rate=0.075)"
   ]
  },
  {
   "cell_type": "code",
   "execution_count": 14,
   "id": "ba34414a-b562-4d0b-8078-748a777203ef",
   "metadata": {},
   "outputs": [
    {
     "ename": "ValueError",
     "evalue": "operands could not be broadcast together with shapes (20,200) (200,1) ",
     "output_type": "error",
     "traceback": [
      "\u001b[1;31m---------------------------------------------------------------------------\u001b[0m",
      "\u001b[1;31mValueError\u001b[0m                                Traceback (most recent call last)",
      "Cell \u001b[1;32mIn[14], line 2\u001b[0m\n\u001b[0;32m      1\u001b[0m trainer \u001b[38;5;241m=\u001b[39m Trainer(model, loss_func, optimizer)\n\u001b[1;32m----> 2\u001b[0m trainer\u001b[38;5;241m.\u001b[39mtrain(X_train\u001b[38;5;241m.\u001b[39mT, y_train, epochs\u001b[38;5;241m=\u001b[39m\u001b[38;5;241m2500\u001b[39m)\n",
      "File \u001b[1;32mD:\\OneDrive - unb.br\\Área de Trabalho\\Materiais para estudo\\CIS_IEEE\\Trainee\\4_Redes_Neurais\\notebooks\\DNN\\training\\trainer.py:19\u001b[0m, in \u001b[0;36mTrainer.train\u001b[1;34m(self, X_train, y_train, epochs)\u001b[0m\n\u001b[0;32m     16\u001b[0m \u001b[38;5;28mself\u001b[39m\u001b[38;5;241m.\u001b[39mmodel\u001b[38;5;241m.\u001b[39mbackward(dA)\n\u001b[0;32m     18\u001b[0m \u001b[38;5;66;03m# Update parameters\u001b[39;00m\n\u001b[1;32m---> 19\u001b[0m \u001b[38;5;28mself\u001b[39m\u001b[38;5;241m.\u001b[39moptimizer\u001b[38;5;241m.\u001b[39mstep(\u001b[38;5;28mself\u001b[39m\u001b[38;5;241m.\u001b[39mmodel)\n\u001b[0;32m     21\u001b[0m \u001b[38;5;28;01mif\u001b[39;00m epoch\u001b[38;5;241m%\u001b[39m\u001b[38;5;241m50\u001b[39m\u001b[38;5;241m==\u001b[39m\u001b[38;5;241m0\u001b[39m:\n\u001b[0;32m     22\u001b[0m     \u001b[38;5;28mprint\u001b[39m(\u001b[38;5;124mf\u001b[39m\u001b[38;5;124m'\u001b[39m\u001b[38;5;124mEpoch \u001b[39m\u001b[38;5;132;01m{\u001b[39;00mepoch\u001b[38;5;241m+\u001b[39m\u001b[38;5;241m1\u001b[39m\u001b[38;5;132;01m}\u001b[39;00m\u001b[38;5;124m/\u001b[39m\u001b[38;5;132;01m{\u001b[39;00mepochs\u001b[38;5;132;01m}\u001b[39;00m\u001b[38;5;124m, Loss: \u001b[39m\u001b[38;5;132;01m{\u001b[39;00mloss\u001b[38;5;132;01m:\u001b[39;00m\u001b[38;5;124m.6f\u001b[39m\u001b[38;5;132;01m}\u001b[39;00m\u001b[38;5;124m'\u001b[39m)\n",
      "File \u001b[1;32mD:\\OneDrive - unb.br\\Área de Trabalho\\Materiais para estudo\\CIS_IEEE\\Trainee\\4_Redes_Neurais\\notebooks\\DNN\\training\\optimizer.py:39\u001b[0m, in \u001b[0;36mAdam.step\u001b[1;34m(self, model)\u001b[0m\n\u001b[0;32m     37\u001b[0m \u001b[38;5;28mself\u001b[39m\u001b[38;5;241m.\u001b[39m_update_params(layer\u001b[38;5;241m.\u001b[39mW, layer\u001b[38;5;241m.\u001b[39mdW, i \u001b[38;5;241m*\u001b[39m \u001b[38;5;241m2\u001b[39m)\n\u001b[0;32m     38\u001b[0m \u001b[38;5;66;03m# Update for biases\u001b[39;00m\n\u001b[1;32m---> 39\u001b[0m \u001b[38;5;28mself\u001b[39m\u001b[38;5;241m.\u001b[39m_update_params(layer\u001b[38;5;241m.\u001b[39mb, layer\u001b[38;5;241m.\u001b[39mdb, i \u001b[38;5;241m*\u001b[39m \u001b[38;5;241m2\u001b[39m \u001b[38;5;241m+\u001b[39m \u001b[38;5;241m1\u001b[39m)\n",
      "File \u001b[1;32mD:\\OneDrive - unb.br\\Área de Trabalho\\Materiais para estudo\\CIS_IEEE\\Trainee\\4_Redes_Neurais\\notebooks\\DNN\\training\\optimizer.py:43\u001b[0m, in \u001b[0;36mAdam._update_params\u001b[1;34m(self, param, grad, index)\u001b[0m\n\u001b[0;32m     41\u001b[0m \u001b[38;5;28;01mdef\u001b[39;00m \u001b[38;5;21m_update_params\u001b[39m(\u001b[38;5;28mself\u001b[39m, param, grad, index):\n\u001b[0;32m     42\u001b[0m     \u001b[38;5;66;03m# Update biased first moment estimate\u001b[39;00m\n\u001b[1;32m---> 43\u001b[0m     \u001b[38;5;28mself\u001b[39m\u001b[38;5;241m.\u001b[39mm[index] \u001b[38;5;241m=\u001b[39m \u001b[38;5;28mself\u001b[39m\u001b[38;5;241m.\u001b[39mbeta1 \u001b[38;5;241m*\u001b[39m \u001b[38;5;28mself\u001b[39m\u001b[38;5;241m.\u001b[39mm[index] \u001b[38;5;241m+\u001b[39m (\u001b[38;5;241m1\u001b[39m \u001b[38;5;241m-\u001b[39m \u001b[38;5;28mself\u001b[39m\u001b[38;5;241m.\u001b[39mbeta1) \u001b[38;5;241m*\u001b[39m grad\n\u001b[0;32m     44\u001b[0m     \u001b[38;5;66;03m# Update biased second moment estimate\u001b[39;00m\n\u001b[0;32m     45\u001b[0m     \u001b[38;5;28mself\u001b[39m\u001b[38;5;241m.\u001b[39mv[index] \u001b[38;5;241m=\u001b[39m \u001b[38;5;28mself\u001b[39m\u001b[38;5;241m.\u001b[39mbeta2 \u001b[38;5;241m*\u001b[39m \u001b[38;5;28mself\u001b[39m\u001b[38;5;241m.\u001b[39mv[index] \u001b[38;5;241m+\u001b[39m (\u001b[38;5;241m1\u001b[39m \u001b[38;5;241m-\u001b[39m \u001b[38;5;28mself\u001b[39m\u001b[38;5;241m.\u001b[39mbeta2) \u001b[38;5;241m*\u001b[39m np\u001b[38;5;241m.\u001b[39msquare(grad)\n",
      "\u001b[1;31mValueError\u001b[0m: operands could not be broadcast together with shapes (20,200) (200,1) "
     ]
    }
   ],
   "source": [
    "trainer = Trainer(model, loss_func, optimizer)\n",
    "trainer.train(X_train.T, y_train, epochs=2500)"
   ]
  },
  {
   "cell_type": "code",
   "execution_count": null,
   "id": "c4a65622-4060-4109-bf0f-ebf1f554d362",
   "metadata": {},
   "outputs": [],
   "source": [
    "PIL.Image.fromarray((np.reshape(X_train[999],(64,64,3))*255).astype(np.uint8)).show()"
   ]
  },
  {
   "cell_type": "code",
   "execution_count": null,
   "id": "99405f8e-8894-4d9a-b349-a44e4f06669a",
   "metadata": {},
   "outputs": [],
   "source": [
    "X_train.T.shape"
   ]
  },
  {
   "cell_type": "code",
   "execution_count": null,
   "id": "c00fb00b-ce15-4f58-a9b7-882cf612c12c",
   "metadata": {},
   "outputs": [],
   "source": [
    "model.layers[6].Z.shape"
   ]
  },
  {
   "cell_type": "code",
   "execution_count": null,
   "id": "a0c61f54-2987-4610-b82b-1fad85960f27",
   "metadata": {},
   "outputs": [],
   "source": [
    "model.layers[7].A.shape"
   ]
  },
  {
   "cell_type": "code",
   "execution_count": null,
   "id": "85ca3294-419c-493e-b3ae-dd91d75669ce",
   "metadata": {},
   "outputs": [],
   "source": [
    "model.layers[6].Z.shape"
   ]
  },
  {
   "cell_type": "code",
   "execution_count": null,
   "id": "d030ba2b-3cdd-47c4-b685-e164607e4c94",
   "metadata": {},
   "outputs": [],
   "source": [
    "model.forward(X_train.T)"
   ]
  },
  {
   "cell_type": "code",
   "execution_count": null,
   "id": "bae519d2-195e-4fa3-b3fe-8109ce692d9c",
   "metadata": {},
   "outputs": [],
   "source": [
    "model.forward(X_train[0].reshape(12288,1))"
   ]
  }
 ],
 "metadata": {
  "kernelspec": {
   "display_name": "cis_ieee-env",
   "language": "python",
   "name": "cis_ieee-env"
  },
  "language_info": {
   "codemirror_mode": {
    "name": "ipython",
    "version": 3
   },
   "file_extension": ".py",
   "mimetype": "text/x-python",
   "name": "python",
   "nbconvert_exporter": "python",
   "pygments_lexer": "ipython3",
   "version": "3.12.4"
  }
 },
 "nbformat": 4,
 "nbformat_minor": 5
}
