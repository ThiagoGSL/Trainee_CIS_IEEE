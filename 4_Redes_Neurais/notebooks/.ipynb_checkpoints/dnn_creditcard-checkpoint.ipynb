{
 "cells": [
  {
   "cell_type": "markdown",
   "id": "6f8a18ee-63d8-427f-9a95-247fd1783ae1",
   "metadata": {},
   "source": [
    "### Introdução"
   ]
  },
  {
   "cell_type": "markdown",
   "id": "4542437a-5fe5-49d1-9c4a-26f19c5b4037",
   "metadata": {},
   "source": [
    "Esse notebook visa testar uma Deep Neural Network construida \"from scratch\" para classificar um dado de uso de cartões de crédito "
   ]
  },
  {
   "cell_type": "markdown",
   "id": "991c98a6-452d-4921-9af6-5a0536bdc9af",
   "metadata": {},
   "source": [
    "#### Importações"
   ]
  },
  {
   "cell_type": "code",
   "execution_count": 1,
   "id": "ea8d2310-5280-4c91-92f8-a02c4d4ab010",
   "metadata": {},
   "outputs": [],
   "source": [
    "import matplotlib.pyplot as plt\n",
    "import seaborn as sns\n",
    "import numpy as np\n",
    "import pandas as pd\n",
    "import PIL"
   ]
  },
  {
   "cell_type": "code",
   "execution_count": 2,
   "id": "782070c4",
   "metadata": {},
   "outputs": [],
   "source": [
    "#Importando modelo\n",
    "from DNN.models.custom_model import CustomModel\n",
    "from DNN.layers.layer import Dense\n",
    "from DNN.layers.activation import ReLU, Sigmoid\n",
    "from DNN.training.loss import CrossEntropyLoss\n",
    "from DNN.training.optimizer import GradientDescent\n",
    "from DNN.training.trainer import Trainer\n",
    "from DNN.evaluation.evaluate import evaluate\n",
    "from DNN.evaluation.cross_validation import CrossValidation"
   ]
  },
  {
   "cell_type": "markdown",
   "id": "73093411-a32d-4a69-8281-d45f7ea166a8",
   "metadata": {},
   "source": [
    "#### Lendo datasets"
   ]
  },
  {
   "cell_type": "code",
   "execution_count": 3,
   "id": "aa8eb68f-ab99-4db0-8c3c-497ae09bd14b",
   "metadata": {},
   "outputs": [],
   "source": [
    "df = pd.read_csv(\"../datasets/creditcard.csv\")"
   ]
  },
  {
   "cell_type": "code",
   "execution_count": 4,
   "id": "ae737736-ea1f-40f3-9f10-a818ffbde5eb",
   "metadata": {},
   "outputs": [
    {
     "data": {
      "text/plain": [
       "Class\n",
       "0    284315\n",
       "1       492\n",
       "Name: Class, dtype: int64"
      ]
     },
     "execution_count": 4,
     "metadata": {},
     "output_type": "execute_result"
    }
   ],
   "source": [
    "df.groupby(\"Class\")[\"Class\"].count()"
   ]
  },
  {
   "cell_type": "markdown",
   "id": "9ece54c3-d969-42b5-b46b-b2bacfd22eda",
   "metadata": {},
   "source": [
    "Fazendo a contagem de linhas para cada classe, vemos que há um número bastante desigual de linhas entre as labels 0 e 1, o que pode tornar o treinamento do modelo enviesado. Para atenuar esse problema, utilizarei um método de amostragem chamado Stratified K-Fold, que consiste na separação de amostras que buscam igualar a proporção entre os dois tipos de labels para cada 'fold'."
   ]
  },
  {
   "cell_type": "code",
   "execution_count": 5,
   "id": "45d291c5-f4f4-4e4d-a570-a9b6f1c3533e",
   "metadata": {},
   "outputs": [],
   "source": [
    "#Importando Stratified K-Fold do sklearn\n",
    "from sklearn.model_selection import StratifiedKFold"
   ]
  },
  {
   "cell_type": "code",
   "execution_count": 6,
   "id": "1c853ed8-ea8d-4243-b906-ff1fc27bf8b0",
   "metadata": {},
   "outputs": [],
   "source": [
    "#Separando entradas e saídas\n",
    "X = df.loc[:,df.columns != \"Class\"].copy()\n",
    "y = df['Class'].copy()"
   ]
  },
  {
   "cell_type": "code",
   "execution_count": 7,
   "id": "e6448f08-3124-42af-b51d-606f1dcf286e",
   "metadata": {},
   "outputs": [],
   "source": [
    "#Realizando a primeira separação entre set de treinamento e de teste com proporção 0.1 de teste.\n",
    "skf = StratifiedKFold(n_splits=2)\n",
    "\n",
    "#Obtendo indexadadores das amostras de treino e de teste\n",
    "train_idx, test_idx = list(skf.split(X,y))[0][0], list(skf.split(X,y))[0][1]\n",
    "\n",
    "#Aplicando indexadores às entradas e saidas\n",
    "X_train, y_train = np.array(X.loc[X.index[train_idx]].copy()), np.array(y[y.index[train_idx]].copy())\n",
    "X_test, y_test = np.array(X.loc[X.index[test_idx]].copy()), np.array(y[y.index[test_idx]].copy())"
   ]
  },
  {
   "cell_type": "code",
   "execution_count": 10,
   "id": "6eb3e56d-3f90-4d49-910c-1e2090869f76",
   "metadata": {},
   "outputs": [],
   "source": [
    "#Inicializando modelo, loss_func e otimizador \n",
    "model = CustomModel([\n",
    "    Dense(len(X.columns), 300),\n",
    "    ReLU(),\n",
    "    Dense(300,1),\n",
    "    Sigmoid()])\n",
    "\n",
    "loss_func = CrossEntropyLoss()\n",
    "optimizer = GradientDescent(learning_rate=0.01)"
   ]
  },
  {
   "cell_type": "code",
   "execution_count": 11,
   "id": "66c0bc02-b29a-46c9-a62b-0788ec63fe7c",
   "metadata": {},
   "outputs": [
    {
     "name": "stdout",
     "output_type": "stream",
     "text": [
      "Epoch 1/200, Loss: 20.687467\n",
      "Epoch 51/200, Loss: 20.687467\n",
      "Epoch 101/200, Loss: 20.687467\n",
      "Epoch 151/200, Loss: 20.687467\n"
     ]
    }
   ],
   "source": [
    "trainer = Trainer(model, loss_func, optimizer)\n",
    "trainer.train(X_train.T, y_train, epochs=200, show = True)"
   ]
  },
  {
   "cell_type": "code",
   "execution_count": 12,
   "id": "b6021477-3c2c-430f-be66-12a6561f7a24",
   "metadata": {},
   "outputs": [
    {
     "ename": "ValueError",
     "evalue": "shapes (300,30) and (142404,30) not aligned: 30 (dim 1) != 142404 (dim 0)",
     "output_type": "error",
     "traceback": [
      "\u001b[1;31m---------------------------------------------------------------------------\u001b[0m",
      "\u001b[1;31mValueError\u001b[0m                                Traceback (most recent call last)",
      "Cell \u001b[1;32mIn[12], line 1\u001b[0m\n\u001b[1;32m----> 1\u001b[0m evaluate(model, X_test\u001b[38;5;241m.\u001b[39mT, y_test,show\u001b[38;5;241m=\u001b[39m\u001b[38;5;28;01mTrue\u001b[39;00m)\n",
      "File \u001b[1;32mD:\\OneDrive - unb.br\\Área de Trabalho\\Materiais para estudo\\CIS_IEEE\\Trainee\\4_Redes_Neurais\\notebooks\\DNN\\evaluation\\evaluate.py:7\u001b[0m, in \u001b[0;36mevaluate\u001b[1;34m(model, X_test, y_test, show)\u001b[0m\n\u001b[0;32m      5\u001b[0m \u001b[38;5;28;01mdef\u001b[39;00m \u001b[38;5;21mevaluate\u001b[39m(model, X_test, y_test, show\u001b[38;5;241m=\u001b[39m\u001b[38;5;28;01mFalse\u001b[39;00m):\n\u001b[0;32m      6\u001b[0m     \u001b[38;5;66;03m# Forward pass para obter as previsões\u001b[39;00m\n\u001b[1;32m----> 7\u001b[0m     y_pred_prob \u001b[38;5;241m=\u001b[39m model\u001b[38;5;241m.\u001b[39mforward(X_test\u001b[38;5;241m.\u001b[39mT)\n\u001b[0;32m      9\u001b[0m \u001b[38;5;250m    \u001b[39m\u001b[38;5;124;03m'''\u001b[39;00m\n\u001b[0;32m     10\u001b[0m \u001b[38;5;124;03m    if y_pred_prob.shape[0]>1 or y_pred_prob.shape[1]>1: #Verificando se o modelo é multiclasse\u001b[39;00m\n\u001b[0;32m     11\u001b[0m \u001b[38;5;124;03m        y_pred = np.argmax(y_pred_prob, axis=0) #O formato da matriz y_pred_prob esperado é (n_y,m)\u001b[39;00m\n\u001b[1;32m   (...)\u001b[0m\n\u001b[0;32m     14\u001b[0m \u001b[38;5;124;03m    else:\u001b[39;00m\n\u001b[0;32m     15\u001b[0m \u001b[38;5;124;03m    '''\u001b[39;00m\n\u001b[0;32m     16\u001b[0m     y_pred \u001b[38;5;241m=\u001b[39m np\u001b[38;5;241m.\u001b[39msqueeze((y_pred_prob\u001b[38;5;241m>\u001b[39m\u001b[38;5;241m0.5\u001b[39m)\u001b[38;5;241m.\u001b[39mastype(\u001b[38;5;28mint\u001b[39m))\n",
      "File \u001b[1;32mD:\\OneDrive - unb.br\\Área de Trabalho\\Materiais para estudo\\CIS_IEEE\\Trainee\\4_Redes_Neurais\\notebooks\\DNN\\models\\base_model.py:10\u001b[0m, in \u001b[0;36mBaseModel.forward\u001b[1;34m(self, X)\u001b[0m\n\u001b[0;32m      8\u001b[0m \u001b[38;5;28;01mdef\u001b[39;00m \u001b[38;5;21mforward\u001b[39m(\u001b[38;5;28mself\u001b[39m, X):\n\u001b[0;32m      9\u001b[0m     \u001b[38;5;28;01mfor\u001b[39;00m layer \u001b[38;5;129;01min\u001b[39;00m \u001b[38;5;28mself\u001b[39m\u001b[38;5;241m.\u001b[39mlayers:\n\u001b[1;32m---> 10\u001b[0m         X \u001b[38;5;241m=\u001b[39m layer\u001b[38;5;241m.\u001b[39mforward(X)\n\u001b[0;32m     11\u001b[0m     \u001b[38;5;28;01mreturn\u001b[39;00m X\n",
      "File \u001b[1;32mD:\\OneDrive - unb.br\\Área de Trabalho\\Materiais para estudo\\CIS_IEEE\\Trainee\\4_Redes_Neurais\\notebooks\\DNN\\layers\\layer.py:13\u001b[0m, in \u001b[0;36mDense.forward\u001b[1;34m(self, A)\u001b[0m\n\u001b[0;32m     11\u001b[0m \u001b[38;5;28;01mdef\u001b[39;00m \u001b[38;5;21mforward\u001b[39m(\u001b[38;5;28mself\u001b[39m, A): \u001b[38;5;66;03m#Activation from previous layer -- A[0] = X\u001b[39;00m\n\u001b[0;32m     12\u001b[0m     \u001b[38;5;28mself\u001b[39m\u001b[38;5;241m.\u001b[39mA \u001b[38;5;241m=\u001b[39m A\n\u001b[1;32m---> 13\u001b[0m     \u001b[38;5;28mself\u001b[39m\u001b[38;5;241m.\u001b[39mZ \u001b[38;5;241m=\u001b[39m np\u001b[38;5;241m.\u001b[39mdot(\u001b[38;5;28mself\u001b[39m\u001b[38;5;241m.\u001b[39mW,A)\u001b[38;5;241m+\u001b[39m\u001b[38;5;28mself\u001b[39m\u001b[38;5;241m.\u001b[39mb\n\u001b[0;32m     14\u001b[0m     \u001b[38;5;28;01mreturn\u001b[39;00m \u001b[38;5;28mself\u001b[39m\u001b[38;5;241m.\u001b[39mZ\n",
      "\u001b[1;31mValueError\u001b[0m: shapes (300,30) and (142404,30) not aligned: 30 (dim 1) != 142404 (dim 0)"
     ]
    }
   ],
   "source": [
    "evaluate(model, X_test.T, y_test,show=True)"
   ]
  }
 ],
 "metadata": {
  "kernelspec": {
   "display_name": "cis_ieee-env",
   "language": "python",
   "name": "cis_ieee-env"
  },
  "language_info": {
   "codemirror_mode": {
    "name": "ipython",
    "version": 3
   },
   "file_extension": ".py",
   "mimetype": "text/x-python",
   "name": "python",
   "nbconvert_exporter": "python",
   "pygments_lexer": "ipython3",
   "version": "3.12.4"
  }
 },
 "nbformat": 4,
 "nbformat_minor": 5
}
