{
 "cells": [
  {
   "cell_type": "markdown",
   "id": "6f8a18ee-63d8-427f-9a95-247fd1783ae1",
   "metadata": {},
   "source": [
    "### Introdução"
   ]
  },
  {
   "cell_type": "markdown",
   "id": "4542437a-5fe5-49d1-9c4a-26f19c5b4037",
   "metadata": {},
   "source": [
    "blabla"
   ]
  },
  {
   "cell_type": "markdown",
   "id": "991c98a6-452d-4921-9af6-5a0536bdc9af",
   "metadata": {},
   "source": [
    "#### Importações"
   ]
  },
  {
   "cell_type": "code",
   "execution_count": 1,
   "id": "ea8d2310-5280-4c91-92f8-a02c4d4ab010",
   "metadata": {},
   "outputs": [],
   "source": [
    "import matplotlib.pyplot as plt\n",
    "import seaborn as sns\n",
    "import numpy as np\n",
    "import pandas as pd\n",
    "import PIL"
   ]
  },
  {
   "cell_type": "code",
   "execution_count": 2,
   "id": "782070c4",
   "metadata": {},
   "outputs": [],
   "source": [
    "#Importando modelo\n",
    "from DNN.models.custom_model import CustomModel\n",
    "from DNN.layers.layer import Dense\n",
    "from DNN.layers.activation import ReLU, Sigmoid\n",
    "from DNN.training.loss import CrossEntropyLoss\n",
    "from DNN.training.optimizer import GradientDescent\n",
    "from DNN.training.trainer import Trainer\n",
    "from DNN.evaluation.evaluate import evaluate\n",
    "from DNN.evaluation.cross_validation import CrossValidation"
   ]
  },
  {
   "cell_type": "markdown",
   "id": "73093411-a32d-4a69-8281-d45f7ea166a8",
   "metadata": {},
   "source": [
    "#### Lendo datasets"
   ]
  },
  {
   "cell_type": "code",
   "execution_count": 3,
   "id": "aa8eb68f-ab99-4db0-8c3c-497ae09bd14b",
   "metadata": {},
   "outputs": [],
   "source": [
    "df = pd.read_csv(\"../datasets/creditcard.csv\")"
   ]
  },
  {
   "cell_type": "code",
   "execution_count": 4,
   "id": "ae737736-ea1f-40f3-9f10-a818ffbde5eb",
   "metadata": {},
   "outputs": [
    {
     "data": {
      "text/plain": [
       "Class\n",
       "0    284315\n",
       "1       492\n",
       "Name: Class, dtype: int64"
      ]
     },
     "execution_count": 4,
     "metadata": {},
     "output_type": "execute_result"
    }
   ],
   "source": [
    "df.groupby(\"Class\")[\"Class\"].count()"
   ]
  },
  {
   "cell_type": "markdown",
   "id": "9ece54c3-d969-42b5-b46b-b2bacfd22eda",
   "metadata": {},
   "source": [
    "Fazendo a contagem de linhas para cada classe, vemos que há um número bastante desigual de linhas entre as labels 0 e 1, o que pode tornar o treinamento do modelo enviesado. Para atenuar esse problema, utilizarei um método de amostragem chamado Stratified K-Fold, que consiste na separação de amostras que buscam igualar a proporção entre os dois tipos de labels para cada 'fold'."
   ]
  },
  {
   "cell_type": "code",
   "execution_count": 5,
   "id": "45d291c5-f4f4-4e4d-a570-a9b6f1c3533e",
   "metadata": {},
   "outputs": [],
   "source": [
    "#Importando Stratified K-Fold do sklearn\n",
    "from sklearn.model_selection import StratifiedKFold"
   ]
  },
  {
   "cell_type": "code",
   "execution_count": 6,
   "id": "1c853ed8-ea8d-4243-b906-ff1fc27bf8b0",
   "metadata": {},
   "outputs": [],
   "source": [
    "#Separando entradas e saídas\n",
    "X = df.loc[:,df.columns != \"Class\"].copy()\n",
    "y = df['Class'].copy()"
   ]
  },
  {
   "cell_type": "code",
   "execution_count": 7,
   "id": "e6448f08-3124-42af-b51d-606f1dcf286e",
   "metadata": {},
   "outputs": [],
   "source": [
    "#Realizando a primeira separação entre set de treinamento e de teste com proporção 0.1 de teste.\n",
    "skf = StratifiedKFold(n_splits=30)\n",
    "\n",
    "#Obtendo indexadadores das amostras de treino e de teste\n",
    "train_idx, test_idx = list(skf.split(X,y))[0][0], list(skf.split(X,y))[0][1]\n",
    "\n",
    "#Aplicando indexadores às entradas e saidas\n",
    "X_train, y_train = X.loc[X.index[train_idx]].copy(), y[y.index[train_idx]].copy()"
   ]
  },
  {
   "cell_type": "markdown",
   "id": "b548303c-aaba-413e-98f4-500927415bc6",
   "metadata": {},
   "source": [
    "Agora, com as amostras de treino e teste, realizarei mais uma separação do set de treino em 9 partes iguais, desse modo, terei 9 folds para validação cruzada e um fold para avaliar o enviesamento do modelo."
   ]
  },
  {
   "cell_type": "code",
   "execution_count": 8,
   "id": "0550a755-cf3b-4d8b-803e-818423820be5",
   "metadata": {},
   "outputs": [],
   "source": [
    "#Realizando a separação do set treinamento em 9 folds\n",
    "skf1 = StratifiedKFold(n_splits=29)\n",
    "\n",
    "folds = {}\n",
    "\n",
    "for i, (train_idx, test_idx) in enumerate(skf1.split(X_train, y_train)):\n",
    "    folds[f\"Fold_{i}\"] = {'train':{\"X\": np.array(X_train.loc[X_train.index[train_idx]].copy()), 'y': np.array(y_train[y_train.index[train_idx]].copy())},\n",
    "                          'test': {\"X\": np.array(X_train.loc[X_train.index[test_idx]].copy()), 'y': np.array(y_train[y_train.index[test_idx]].copy())}} "
   ]
  },
  {
   "cell_type": "code",
   "execution_count": 9,
   "id": "6eb3e56d-3f90-4d49-910c-1e2090869f76",
   "metadata": {},
   "outputs": [],
   "source": [
    "#Inicializando modelo, loss_func e otimizador \n",
    "model = CustomModel([\n",
    "    Dense(len(X.columns), 300),\n",
    "    ReLU(),\n",
    "    Dense(300,1),\n",
    "    Sigmoid()])\n",
    "\n",
    "loss_func = CrossEntropyLoss()\n",
    "optimizer = GradientDescent(learning_rate=0.01)"
   ]
  },
  {
   "cell_type": "code",
   "execution_count": 10,
   "id": "66c0bc02-b29a-46c9-a62b-0788ec63fe7c",
   "metadata": {},
   "outputs": [],
   "source": [
    "trainer = Trainer(model, loss_func, optimizer)\n",
    "#trainer.train(X_train.T, y_train, epochs=2500)"
   ]
  },
  {
   "cell_type": "code",
   "execution_count": 11,
   "id": "40adbcca-9e52-4460-aad1-4305504e8117",
   "metadata": {},
   "outputs": [],
   "source": [
    "cross_val = CrossValidation(model, trainer)"
   ]
  },
  {
   "cell_type": "code",
   "execution_count": 12,
   "id": "793781b4-edf6-4789-876d-481e7f64f0ee",
   "metadata": {},
   "outputs": [
    {
     "name": "stderr",
     "output_type": "stream",
     "text": [
      "D:\\OneDrive - unb.br\\Área de Trabalho\\Materiais para estudo\\CIS_IEEE\\Trainee\\4_Redes_Neurais\\notebooks\\DNN\\layers\\activation.py:14: RuntimeWarning: overflow encountered in exp\n",
      "  self.A = (1 / (1 + np.exp(-X)))\n"
     ]
    },
    {
     "name": "stdout",
     "output_type": "stream",
     "text": [
      "Epoch 1/10, Loss: 0.035784\n"
     ]
    },
    {
     "name": "stderr",
     "output_type": "stream",
     "text": [
      "C:\\Users\\thiag\\anaconda3\\envs\\cis_ieee-env\\Lib\\site-packages\\sklearn\\metrics\\_classification.py:1509: UndefinedMetricWarning: Precision is ill-defined and being set to 0.0 in labels with no predicted samples. Use `zero_division` parameter to control this behavior.\n",
      "  _warn_prf(average, modifier, f\"{metric.capitalize()} is\", len(result))\n",
      "D:\\OneDrive - unb.br\\Área de Trabalho\\Materiais para estudo\\CIS_IEEE\\Trainee\\4_Redes_Neurais\\notebooks\\DNN\\layers\\activation.py:14: RuntimeWarning: overflow encountered in exp\n",
      "  self.A = (1 / (1 + np.exp(-X)))\n"
     ]
    },
    {
     "name": "stdout",
     "output_type": "stream",
     "text": [
      "Epoch 1/10, Loss: 0.035784\n"
     ]
    },
    {
     "name": "stderr",
     "output_type": "stream",
     "text": [
      "C:\\Users\\thiag\\anaconda3\\envs\\cis_ieee-env\\Lib\\site-packages\\sklearn\\metrics\\_classification.py:1509: UndefinedMetricWarning: Precision is ill-defined and being set to 0.0 in labels with no predicted samples. Use `zero_division` parameter to control this behavior.\n",
      "  _warn_prf(average, modifier, f\"{metric.capitalize()} is\", len(result))\n",
      "D:\\OneDrive - unb.br\\Área de Trabalho\\Materiais para estudo\\CIS_IEEE\\Trainee\\4_Redes_Neurais\\notebooks\\DNN\\layers\\activation.py:14: RuntimeWarning: overflow encountered in exp\n",
      "  self.A = (1 / (1 + np.exp(-X)))\n"
     ]
    },
    {
     "name": "stdout",
     "output_type": "stream",
     "text": [
      "Epoch 1/10, Loss: 0.035784\n"
     ]
    },
    {
     "ename": "KeyboardInterrupt",
     "evalue": "",
     "output_type": "error",
     "traceback": [
      "\u001b[1;31m---------------------------------------------------------------------------\u001b[0m",
      "\u001b[1;31mKeyboardInterrupt\u001b[0m                         Traceback (most recent call last)",
      "Cell \u001b[1;32mIn[12], line 1\u001b[0m\n\u001b[1;32m----> 1\u001b[0m cross_val\u001b[38;5;241m.\u001b[39mvalidate(folds, epochs \u001b[38;5;241m=\u001b[39m \u001b[38;5;241m10\u001b[39m)\n",
      "File \u001b[1;32mD:\\OneDrive - unb.br\\Área de Trabalho\\Materiais para estudo\\CIS_IEEE\\Trainee\\4_Redes_Neurais\\notebooks\\DNN\\evaluation\\cross_validation.py:23\u001b[0m, in \u001b[0;36mCrossValidation.validate\u001b[1;34m(self, folds, epochs, show)\u001b[0m\n\u001b[0;32m     20\u001b[0m X_test \u001b[38;5;241m=\u001b[39m folds[fold][\u001b[38;5;124m'\u001b[39m\u001b[38;5;124mtest\u001b[39m\u001b[38;5;124m'\u001b[39m][\u001b[38;5;124m'\u001b[39m\u001b[38;5;124mX\u001b[39m\u001b[38;5;124m'\u001b[39m]\n\u001b[0;32m     21\u001b[0m y_test \u001b[38;5;241m=\u001b[39m folds[fold][\u001b[38;5;124m'\u001b[39m\u001b[38;5;124mtest\u001b[39m\u001b[38;5;124m'\u001b[39m][\u001b[38;5;124m'\u001b[39m\u001b[38;5;124my\u001b[39m\u001b[38;5;124m'\u001b[39m]\n\u001b[1;32m---> 23\u001b[0m \u001b[38;5;28mself\u001b[39m\u001b[38;5;241m.\u001b[39mtrainer\u001b[38;5;241m.\u001b[39mtrain(X_train\u001b[38;5;241m.\u001b[39mT, y_train, epochs\u001b[38;5;241m=\u001b[39mepochs, show \u001b[38;5;241m=\u001b[39m \u001b[38;5;28;01mTrue\u001b[39;00m, period_to_show \u001b[38;5;241m=\u001b[39m \u001b[38;5;241m10\u001b[39m)\n\u001b[0;32m     24\u001b[0m accuracy, precision, recall, f1 \u001b[38;5;241m=\u001b[39m evaluate(\u001b[38;5;28mself\u001b[39m\u001b[38;5;241m.\u001b[39mmodel, X_test, y_test)\n\u001b[0;32m     26\u001b[0m \u001b[38;5;28mself\u001b[39m\u001b[38;5;241m.\u001b[39mmetrics[\u001b[38;5;124m'\u001b[39m\u001b[38;5;124maccuracy\u001b[39m\u001b[38;5;124m'\u001b[39m]\u001b[38;5;241m.\u001b[39mappend(accuracy)\n",
      "File \u001b[1;32mD:\\OneDrive - unb.br\\Área de Trabalho\\Materiais para estudo\\CIS_IEEE\\Trainee\\4_Redes_Neurais\\notebooks\\DNN\\training\\trainer.py:15\u001b[0m, in \u001b[0;36mTrainer.train\u001b[1;34m(self, X_train, y_train, epochs, show, period_to_show)\u001b[0m\n\u001b[0;32m     13\u001b[0m \u001b[38;5;66;03m# Backward pass\u001b[39;00m\n\u001b[0;32m     14\u001b[0m dA \u001b[38;5;241m=\u001b[39m \u001b[38;5;28mself\u001b[39m\u001b[38;5;241m.\u001b[39mloss_func\u001b[38;5;241m.\u001b[39mbackward()\n\u001b[1;32m---> 15\u001b[0m \u001b[38;5;28mself\u001b[39m\u001b[38;5;241m.\u001b[39mmodel\u001b[38;5;241m.\u001b[39mbackward(dA)\n\u001b[0;32m     17\u001b[0m \u001b[38;5;66;03m# Update parameters\u001b[39;00m\n\u001b[0;32m     18\u001b[0m \u001b[38;5;28mself\u001b[39m\u001b[38;5;241m.\u001b[39moptimizer\u001b[38;5;241m.\u001b[39mstep(\u001b[38;5;28mself\u001b[39m\u001b[38;5;241m.\u001b[39mmodel)\n",
      "File \u001b[1;32mD:\\OneDrive - unb.br\\Área de Trabalho\\Materiais para estudo\\CIS_IEEE\\Trainee\\4_Redes_Neurais\\notebooks\\DNN\\models\\base_model.py:15\u001b[0m, in \u001b[0;36mBaseModel.backward\u001b[1;34m(self, dA)\u001b[0m\n\u001b[0;32m     13\u001b[0m \u001b[38;5;28;01mdef\u001b[39;00m \u001b[38;5;21mbackward\u001b[39m(\u001b[38;5;28mself\u001b[39m, dA):\n\u001b[0;32m     14\u001b[0m     \u001b[38;5;28;01mfor\u001b[39;00m layer \u001b[38;5;129;01min\u001b[39;00m \u001b[38;5;28mreversed\u001b[39m(\u001b[38;5;28mself\u001b[39m\u001b[38;5;241m.\u001b[39mlayers):\n\u001b[1;32m---> 15\u001b[0m         dA \u001b[38;5;241m=\u001b[39m layer\u001b[38;5;241m.\u001b[39mbackward(dA)\n",
      "\u001b[1;31mKeyboardInterrupt\u001b[0m: "
     ]
    }
   ],
   "source": [
    "cross_val.validate(folds, epochs = 10)"
   ]
  }
 ],
 "metadata": {
  "kernelspec": {
   "display_name": "cis_ieee-env",
   "language": "python",
   "name": "cis_ieee-env"
  },
  "language_info": {
   "codemirror_mode": {
    "name": "ipython",
    "version": 3
   },
   "file_extension": ".py",
   "mimetype": "text/x-python",
   "name": "python",
   "nbconvert_exporter": "python",
   "pygments_lexer": "ipython3",
   "version": "3.12.4"
  }
 },
 "nbformat": 4,
 "nbformat_minor": 5
}
