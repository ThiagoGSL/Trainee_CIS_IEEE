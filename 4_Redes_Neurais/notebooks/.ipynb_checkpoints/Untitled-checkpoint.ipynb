{
 "cells": [
  {
   "cell_type": "markdown",
   "id": "6f8a18ee-63d8-427f-9a95-247fd1783ae1",
   "metadata": {},
   "source": [
    "### Introdução"
   ]
  },
  {
   "cell_type": "markdown",
   "id": "4542437a-5fe5-49d1-9c4a-26f19c5b4037",
   "metadata": {},
   "source": [
    "blabla"
   ]
  },
  {
   "cell_type": "markdown",
   "id": "991c98a6-452d-4921-9af6-5a0536bdc9af",
   "metadata": {},
   "source": [
    "#### Importações"
   ]
  },
  {
   "cell_type": "code",
   "execution_count": 1,
   "id": "ea8d2310-5280-4c91-92f8-a02c4d4ab010",
   "metadata": {},
   "outputs": [],
   "source": [
    "import numpy as np\n",
    "import pandas as pd\n",
    "import matplotlib.pyplot as plt\n",
    "import seaborn as sns"
   ]
  },
  {
   "cell_type": "markdown",
   "id": "73093411-a32d-4a69-8281-d45f7ea166a8",
   "metadata": {},
   "source": [
    "#### Lendo datasets"
   ]
  },
  {
   "cell_type": "code",
   "execution_count": 2,
   "id": "aa8eb68f-ab99-4db0-8c3c-497ae09bd14b",
   "metadata": {},
   "outputs": [],
   "source": [
    "df = pd.read_csv(\"../dataset/creditcard.csv\")"
   ]
  },
  {
   "cell_type": "code",
   "execution_count": 11,
   "id": "ae737736-ea1f-40f3-9f10-a818ffbde5eb",
   "metadata": {},
   "outputs": [
    {
     "data": {
      "text/plain": [
       "Class\n",
       "0    284315\n",
       "1       492\n",
       "Name: Class, dtype: int64"
      ]
     },
     "execution_count": 11,
     "metadata": {},
     "output_type": "execute_result"
    }
   ],
   "source": [
    "df.groupby(\"Class\")[\"Class\"].count()"
   ]
  },
  {
   "cell_type": "markdown",
   "id": "9ece54c3-d969-42b5-b46b-b2bacfd22eda",
   "metadata": {},
   "source": [
    "Fazendo a contagem de linhas para cada classe, vemos que há um número bastante desigual de linhas entre as labels 0 e 1."
   ]
  },
  {
   "cell_type": "code",
   "execution_count": null,
   "id": "d2c7f43b-a87d-4034-bc03-21b616be0c74",
   "metadata": {},
   "outputs": [],
   "source": [
    "X_train = "
   ]
  }
 ],
 "metadata": {
  "kernelspec": {
   "display_name": "cis_ieee-env",
   "language": "python",
   "name": "cis_ieee-env"
  },
  "language_info": {
   "codemirror_mode": {
    "name": "ipython",
    "version": 3
   },
   "file_extension": ".py",
   "mimetype": "text/x-python",
   "name": "python",
   "nbconvert_exporter": "python",
   "pygments_lexer": "ipython3",
   "version": "3.12.4"
  }
 },
 "nbformat": 4,
 "nbformat_minor": 5
}
